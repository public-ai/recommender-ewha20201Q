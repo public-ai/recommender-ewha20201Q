{
 "cells": [
  {
   "cell_type": "markdown",
   "metadata": {},
   "source": [
    "<i><b>Public-AI</b></i>\n",
    "### ✎&nbsp;&nbsp;week 6. Neural Collaborative Filtering와 DeepFM\n",
    "\n",
    "# 컨텍스트 데이터와 DeepFM\n",
    "\n",
    "현실세계에서는 구매하는 환경에 따라 아이템에 대한 고객의 행동이 변화합니다. 여기서, \"구매하는 환경\"을 \"문맥(Context)\"라고 하며, 이를 기반으로한 추천시스템을 \"문맥기반 추천시스템\"이라 불리는데요, 최근 2020년의 트렌드 키워드로 \"초개인화\"가 언급되면서 특히 주목받고 있는 추천시스템 기술이기도 합니다. 우리는 초개인화 추천시스템을 구현하기 위해서 컨텍스트 데이터가 가진 매우 복잡한 상호관계의 특성을 활용하게 됩니다. 이번시간에는 이러한 복잡한 상호관계를 딥러닝으로 모델링한 DeepFM에 대해서 구현해보겠습니다. \n",
    "\n",
    "### _Objective_ \n",
    "\n",
    "* 고객 행동 및 컨텍스트 데이터을 이용하는 방법을 배웁니다.\n",
    "* 특성간 복잡한 관계에 있는 데이터에서 추천시스템을 구현합니다.\n",
    "* DeepFM을 직접 구현하여 현업에서 필요에 맞게 활용합니다.\n"
   ]
  },
  {
   "cell_type": "code",
   "execution_count": 1,
   "metadata": {},
   "outputs": [],
   "source": [
    "%matplotlib inline\n",
    "\n",
    "import numpy as np\n",
    "import pandas as pd\n",
    "import tensorflow as tf\n",
    "import matplotlib.pyplot as plt"
   ]
  },
  {
   "cell_type": "markdown",
   "metadata": {},
   "source": [
    "# \\[ 1. 문제 정의 \\]\n",
    "---"
   ]
  },
  {
   "cell_type": "markdown",
   "metadata": {},
   "source": [
    "이전시간에 배운 FM모델은 각 특성 간의 Pair-wise의 상호관계를 임베딩하여 활용하는 방법이었습니다. 하지만, 현실세계에서 구매가 진행되는 상황에는 고객과 유저의 특성뿐 아니라 그 환경에 대한 정보도 있을 것입니다. 이러한 \"환경에 대한 정보\"인 컨텍스트 데이터를 다루는 문제를 살펴봅시다."
   ]
  },
  {
   "cell_type": "markdown",
   "metadata": {},
   "source": [
    "## 컨텍스트 데이터(Context data)\n",
    "\n",
    "유저의 아이템에 대한 활동이 있을 때 그 순간의 환경에 대한 데이터를 `컨텍스트 데이터(Context Data)` 즉, 문맥/환경 데이터라고 합니다. 현실세계에서 유저는 특성 시점에서 이러한 문맥과 환경의 영향을 받아 구매나 소비가 발생하게 되는데요, 예컨데 \"나는 비가오는 날 운동할 때에는 트와이스의 \"cheer up\" 노래가 듣고싶어진다.\" 같은 것입니다.<br>\n",
    "컨텍스트 데이터는 고객의 행동에 대한 시점에 따라 달라지기 때문에, 각 로그데이터(상호작용데이터)마다 서로 다른 값들을 갖게 됩니다. 다시 말해서, `상호작용이 발생하는 시점`에서 현재 상호작용에 영향을 끼치고 있는 데이터를 `컨텍스트 데이터`라고 할 수 있습니다. ( 고객정보, 상품정보 데이터는 \"해당 시점\"의 데이터는 아님 )<br>\n",
    "추천시스템의 문맥/환경을 고려한 접근은 최근 서비스 트렌드인 \"초개인화\"의 활약으로 전 세계적인 관심을 받고 있습니다. 특히 세계 최대의 온라인 쇼핑 중개기업인 \"아마존\"에서는 이러한 컨텍스트 데이터를 활용하여 고객을 세분화하여 \"0.1인 마케팅\"을 실현하는 것으로도 유명합니다.\n",
    "이제, 우리도 서비스를 이용하는 고객의 상황까지 고려하는 초개인화 추천시스템을 만들어 보겠습니다."
   ]
  },
  {
   "cell_type": "markdown",
   "metadata": {},
   "source": [
    "## 특성간의 복잡한 상호관계\n",
    "\n",
    "`컨텍스트 데이터`는 이전시간에 배운 Factorization Machine 모델로 단순히 각 특성간 pair-wise의 상호관계만을 고려하기에는 정말 복잡한 상호관계를 가지고 있습니다. 예를 들자면, \"일하는 시간\" , \"비오는 날씨\", \"아티스트\"는 단순히 (시간, 날씨), (날씨, 직업), (시간, 직업)과 같이 쌍(pair)로만 상호관계를 갖는 것이 아닙니다. (시간, 날씨, 직업)을 함께 고려한 상호작용이 고객의 행동에 영향을 미치게 되지요. 여러가지의 각 특성들은 더욱 복잡하게 관계되어 고객의 행동에 영향을 끼치게 됩니다.<br>\n",
    "이렇듯 쌍 이상의 상호관계를 `Order-N` 이라 표현합니다."
   ]
  },
  {
   "cell_type": "markdown",
   "metadata": {},
   "source": [
    "### Order-N 상호관계\n",
    "\n",
    "+ Order-0 : 각 특성(Feature)의 가중치를 전혀 고려하지 않음 : bias 부분\n",
    "+ Order-1 : 특성 각각의 값에 대한 영향 고려 : Linear Regression Model 부분\n",
    "+ Order-2 : 특성 각각의 Pair에 대한 상호 관계의 영향 고려 : Factorization Machine Model 부분\n",
    "+ Order-N : 특성간 서로 세 단계 이상으로 상호간 복잡한 관계의 영향 고려 : DeepLearning Model 부분\n",
    "\n",
    "![](https://i.imgur.com/hcFGGnI.png)"
   ]
  },
  {
   "cell_type": "markdown",
   "metadata": {},
   "source": [
    "예시 :\n",
    "1. app-category, time-stamp : (점심시간에는 음식 배달앱을 많이 쓴다.) ; 두가지 특성의 상호작용의 반영을 order-2\n",
    "2. app-category, user_age, user_gender : (10대 남자는 알피지 게임을 많이 쓴다.) ;  세가지 특성의 상호작용의 반영을 order-3\n",
    "\n",
    "이렇게, 쌍이상의 복잡한 상호관계가 엮여있는 것을 order-N이라고 합니다. 앞서 배웠던 Linear Regression 모델은 Order-1 을 반영하고, Factorization Machine 모델은 Order-2 를 반영합니다. (global bias가 Order-0를 반영합니다.)\n",
    "\n",
    "하지만 컨텍스트 데이터는 여러가지 특성의 복잡한 관계가 유저의 행동에 영향을 주므로 Order-N 인 high-order를 반영하는 추천 모델을 만드는 것이 이번 시간의 문제 정의입니다.\n",
    "\n",
    "그렇다면, 이제 이러한 Order-N 관계의 컨텍스트 데이터가 있는 Frappe Dataset을 직접 확인해 보겠습니다."
   ]
  },
  {
   "cell_type": "markdown",
   "metadata": {},
   "source": [
    "## 1. Frappe Dataset"
   ]
  },
  {
   "cell_type": "markdown",
   "metadata": {},
   "source": [
    "![](https://i.imgur.com/aNlJHCG.png)"
   ]
  },
  {
   "cell_type": "markdown",
   "metadata": {},
   "source": [
    "Frappe 데이터는 2015년 5월에 컨텍스트 인지 모바일 앱 추천시스템을 위해 공개된 현실 데이터인데요, 유저의 앱에 대한 사용 카운트가 96200여개의 로그로 구성되어있는 데이터입니다.\n",
    " [데이터셋 페이퍼](https://arxiv.org/pdf/1505.03014v1.pdf)<br>"
   ]
  },
  {
   "cell_type": "code",
   "execution_count": 2,
   "metadata": {},
   "outputs": [
    {
     "name": "stdout",
     "output_type": "stream",
     "text": [
      "Downloading data from https://pai-datasets.s3.ap-northeast-2.amazonaws.com/recommender_systems/frappe/frappe.csv\n",
      "6119424/6119125 [==============================] - 1s 0us/step\n",
      "Downloading data from https://pai-datasets.s3.ap-northeast-2.amazonaws.com/recommender_systems/frappe/meta.csv\n",
      "6217728/6215800 [==============================] - 1s 0us/step\n"
     ]
    }
   ],
   "source": [
    "from tensorflow.keras.utils import get_file\n",
    "\n",
    "ROOT_URL = \"https://pai-datasets.s3.ap-northeast-2.amazonaws.com/recommender_systems/frappe/\"\n",
    "\n",
    "# 데이터 가져오기\n",
    "frappe_path = get_file(\"frappe.csv\", ROOT_URL+\"frappe.csv\")\n",
    "meta_path = get_file(\"frappe_meta.csv\", ROOT_URL+\"meta.csv\")\n",
    "\n",
    "frappe_df = pd.read_csv(frappe_path)\n",
    "meta_df = pd.read_csv(meta_path,sep='\\t')"
   ]
  },
  {
   "cell_type": "markdown",
   "metadata": {},
   "source": [
    "### 1) 문제정의와 부합하는 데이터 확인\n",
    "\n",
    "frappe 데이터 셋에는 이번 시간에 다뤄볼 문제와 같이 각 행에는 특정 고객이 특정 아이템을 다운로드하는 환경이 저장되어 있습니다.<br>\n",
    "각 행은 고객의 아이템에 대한 행동로그데이터로 볼 수 있습니다."
   ]
  },
  {
   "cell_type": "markdown",
   "metadata": {},
   "source": [
    "**(1) frappe 데이터셋**\n",
    "\n",
    "+ user : 유저 식별자\n",
    "+ item : 아이템(앱) 식별자(\\* meta.csv)\n",
    "+ daytime : 시간대 구분 ( morning ~ night )\n",
    "+ weekday : 요일 구분 ( monday ~ sunday )\n",
    "+ isweekend : 주말/주중 구분 ( workday/weekend )\n",
    "+ homework : 업무중/가정 구분 ( work/home/unknown )\n",
    "+ cost : 유/무료 구분( free/paid )\n",
    "+ weather : 날씨 구분( cloudy ~ unknown )\n",
    "+ country : 국가 구분( Albania ~ unknown )\n",
    "+ city : 도시 코드( 0 ~ 1087 )\n",
    "+ cnt : 카운트"
   ]
  },
  {
   "cell_type": "code",
   "execution_count": 3,
   "metadata": {},
   "outputs": [
    {
     "name": "stdout",
     "output_type": "stream",
     "text": [
      "frappe_df 크기 :  (93308, 11)\n"
     ]
    },
    {
     "data": {
      "text/html": [
       "<div>\n",
       "<style scoped>\n",
       "    .dataframe tbody tr th:only-of-type {\n",
       "        vertical-align: middle;\n",
       "    }\n",
       "\n",
       "    .dataframe tbody tr th {\n",
       "        vertical-align: top;\n",
       "    }\n",
       "\n",
       "    .dataframe thead th {\n",
       "        text-align: right;\n",
       "    }\n",
       "</style>\n",
       "<table border=\"1\" class=\"dataframe\">\n",
       "  <thead>\n",
       "    <tr style=\"text-align: right;\">\n",
       "      <th></th>\n",
       "      <th>user</th>\n",
       "      <th>item</th>\n",
       "      <th>daytime</th>\n",
       "      <th>weekday</th>\n",
       "      <th>isweekend</th>\n",
       "      <th>homework</th>\n",
       "      <th>cost</th>\n",
       "      <th>weather</th>\n",
       "      <th>country</th>\n",
       "      <th>city</th>\n",
       "      <th>cnt</th>\n",
       "    </tr>\n",
       "  </thead>\n",
       "  <tbody>\n",
       "    <tr>\n",
       "      <th>40362</th>\n",
       "      <td>126</td>\n",
       "      <td>239</td>\n",
       "      <td>afternoon</td>\n",
       "      <td>saturday</td>\n",
       "      <td>weekend</td>\n",
       "      <td>unknown</td>\n",
       "      <td>free</td>\n",
       "      <td>cloudy</td>\n",
       "      <td>United States</td>\n",
       "      <td>0</td>\n",
       "      <td>1</td>\n",
       "    </tr>\n",
       "    <tr>\n",
       "      <th>92870</th>\n",
       "      <td>758</td>\n",
       "      <td>16</td>\n",
       "      <td>morning</td>\n",
       "      <td>saturday</td>\n",
       "      <td>weekend</td>\n",
       "      <td>unknown</td>\n",
       "      <td>free</td>\n",
       "      <td>unknown</td>\n",
       "      <td>unknown</td>\n",
       "      <td>0</td>\n",
       "      <td>9</td>\n",
       "    </tr>\n",
       "    <tr>\n",
       "      <th>30560</th>\n",
       "      <td>89</td>\n",
       "      <td>168</td>\n",
       "      <td>morning</td>\n",
       "      <td>tuesday</td>\n",
       "      <td>workday</td>\n",
       "      <td>home</td>\n",
       "      <td>free</td>\n",
       "      <td>rainy</td>\n",
       "      <td>Canada</td>\n",
       "      <td>136</td>\n",
       "      <td>2</td>\n",
       "    </tr>\n",
       "    <tr>\n",
       "      <th>82478</th>\n",
       "      <td>377</td>\n",
       "      <td>5</td>\n",
       "      <td>morning</td>\n",
       "      <td>tuesday</td>\n",
       "      <td>workday</td>\n",
       "      <td>unknown</td>\n",
       "      <td>free</td>\n",
       "      <td>cloudy</td>\n",
       "      <td>Peru</td>\n",
       "      <td>799</td>\n",
       "      <td>91</td>\n",
       "    </tr>\n",
       "    <tr>\n",
       "      <th>70527</th>\n",
       "      <td>270</td>\n",
       "      <td>722</td>\n",
       "      <td>morning</td>\n",
       "      <td>saturday</td>\n",
       "      <td>weekend</td>\n",
       "      <td>home</td>\n",
       "      <td>free</td>\n",
       "      <td>sunny</td>\n",
       "      <td>Spain</td>\n",
       "      <td>369</td>\n",
       "      <td>27</td>\n",
       "    </tr>\n",
       "  </tbody>\n",
       "</table>\n",
       "</div>"
      ],
      "text/plain": [
       "       user  item    daytime   weekday isweekend homework  cost  weather  \\\n",
       "40362   126   239  afternoon  saturday   weekend  unknown  free   cloudy   \n",
       "92870   758    16    morning  saturday   weekend  unknown  free  unknown   \n",
       "30560    89   168    morning   tuesday   workday     home  free    rainy   \n",
       "82478   377     5    morning   tuesday   workday  unknown  free   cloudy   \n",
       "70527   270   722    morning  saturday   weekend     home  free    sunny   \n",
       "\n",
       "             country  city  cnt  \n",
       "40362  United States     0    1  \n",
       "92870        unknown     0    9  \n",
       "30560         Canada   136    2  \n",
       "82478           Peru   799   91  \n",
       "70527          Spain   369   27  "
      ]
     },
     "execution_count": 3,
     "metadata": {},
     "output_type": "execute_result"
    }
   ],
   "source": [
    "print(\"frappe_df 크기 : \",frappe_df.shape)\n",
    "# 다섯개 데이터를 Random으로 가져옴\n",
    "frappe_df.sample(5)"
   ]
  },
  {
   "cell_type": "markdown",
   "metadata": {},
   "source": [
    "**(2) meta 데이터셋**\n"
   ]
  },
  {
   "cell_type": "code",
   "execution_count": 4,
   "metadata": {},
   "outputs": [
    {
     "data": {
      "text/plain": [
       "Index(['item', 'package', 'category', 'downloads', 'developer', 'icon',\n",
       "       'language', 'description', 'name', 'price', 'rating', 'short desc'],\n",
       "      dtype='object')"
      ]
     },
     "execution_count": 4,
     "metadata": {},
     "output_type": "execute_result"
    }
   ],
   "source": [
    "meta_df.columns"
   ]
  },
  {
   "cell_type": "code",
   "execution_count": 5,
   "metadata": {},
   "outputs": [
    {
     "name": "stdout",
     "output_type": "stream",
     "text": [
      "meta_df 크기 :  (4082, 12)\n"
     ]
    },
    {
     "data": {
      "text/html": [
       "<div>\n",
       "<style scoped>\n",
       "    .dataframe tbody tr th:only-of-type {\n",
       "        vertical-align: middle;\n",
       "    }\n",
       "\n",
       "    .dataframe tbody tr th {\n",
       "        vertical-align: top;\n",
       "    }\n",
       "\n",
       "    .dataframe thead th {\n",
       "        text-align: right;\n",
       "    }\n",
       "</style>\n",
       "<table border=\"1\" class=\"dataframe\">\n",
       "  <thead>\n",
       "    <tr style=\"text-align: right;\">\n",
       "      <th></th>\n",
       "      <th>item</th>\n",
       "      <th>package</th>\n",
       "      <th>category</th>\n",
       "      <th>downloads</th>\n",
       "      <th>developer</th>\n",
       "      <th>icon</th>\n",
       "      <th>language</th>\n",
       "      <th>description</th>\n",
       "      <th>name</th>\n",
       "      <th>price</th>\n",
       "      <th>rating</th>\n",
       "      <th>short desc</th>\n",
       "    </tr>\n",
       "  </thead>\n",
       "  <tbody>\n",
       "    <tr>\n",
       "      <th>902</th>\n",
       "      <td>902</td>\n",
       "      <td>com.withings.wiscale2</td>\n",
       "      <td>Health &amp; Fitness</td>\n",
       "      <td>5,000 - 10,000</td>\n",
       "      <td>Withings</td>\n",
       "      <td>http://d2lh3rxs7crswz.cloudfront.net/com.withi...</td>\n",
       "      <td>en</td>\n",
       "      <td>The Withings Health Companion is the simple wa...</td>\n",
       "      <td>Withings Health Companion</td>\n",
       "      <td>Free</td>\n",
       "      <td>3.5</td>\n",
       "      <td>NaN</td>\n",
       "    </tr>\n",
       "    <tr>\n",
       "      <th>841</th>\n",
       "      <td>841</td>\n",
       "      <td>com.mobilefootie.fotmobpro</td>\n",
       "      <td>Sports</td>\n",
       "      <td>10,000 - 50,000</td>\n",
       "      <td>NorApps</td>\n",
       "      <td>http://d2lh3rxs7crswz.cloudfront.net/com.mobil...</td>\n",
       "      <td>en</td>\n",
       "      <td>Over 3 million downloads for the best soccer/f...</td>\n",
       "      <td>Soccer Scores Pro - FotMob</td>\n",
       "      <td>$2.66</td>\n",
       "      <td>4.5</td>\n",
       "      <td>Follow your favorite football/soccer team. LIV...</td>\n",
       "    </tr>\n",
       "    <tr>\n",
       "      <th>2157</th>\n",
       "      <td>2157</td>\n",
       "      <td>com.srsdev.wallpapers</td>\n",
       "      <td>Personalization</td>\n",
       "      <td>10,000,000 - 50,000,000</td>\n",
       "      <td>srsdev</td>\n",
       "      <td>http://d2lh3rxs7crswz.cloudfront.net/com.srsde...</td>\n",
       "      <td>en</td>\n",
       "      <td>** The BIGGEST collection of TOP QUALITY wallp...</td>\n",
       "      <td>PicSpeed HD Wallpapers 500,000</td>\n",
       "      <td>Free</td>\n",
       "      <td>4.7</td>\n",
       "      <td>Simple and easy to use wallpaper application. ...</td>\n",
       "    </tr>\n",
       "  </tbody>\n",
       "</table>\n",
       "</div>"
      ],
      "text/plain": [
       "      item                     package          category  \\\n",
       "902    902       com.withings.wiscale2  Health & Fitness   \n",
       "841    841  com.mobilefootie.fotmobpro            Sports   \n",
       "2157  2157       com.srsdev.wallpapers   Personalization   \n",
       "\n",
       "                    downloads developer  \\\n",
       "902            5,000 - 10,000  Withings   \n",
       "841           10,000 - 50,000   NorApps   \n",
       "2157  10,000,000 - 50,000,000    srsdev   \n",
       "\n",
       "                                                   icon language  \\\n",
       "902   http://d2lh3rxs7crswz.cloudfront.net/com.withi...       en   \n",
       "841   http://d2lh3rxs7crswz.cloudfront.net/com.mobil...       en   \n",
       "2157  http://d2lh3rxs7crswz.cloudfront.net/com.srsde...       en   \n",
       "\n",
       "                                            description  \\\n",
       "902   The Withings Health Companion is the simple wa...   \n",
       "841   Over 3 million downloads for the best soccer/f...   \n",
       "2157  ** The BIGGEST collection of TOP QUALITY wallp...   \n",
       "\n",
       "                                name  price rating  \\\n",
       "902        Withings Health Companion   Free    3.5   \n",
       "841       Soccer Scores Pro - FotMob  $2.66    4.5   \n",
       "2157  PicSpeed HD Wallpapers 500,000   Free    4.7   \n",
       "\n",
       "                                             short desc  \n",
       "902                                                 NaN  \n",
       "841   Follow your favorite football/soccer team. LIV...  \n",
       "2157  Simple and easy to use wallpaper application. ...  "
      ]
     },
     "execution_count": 5,
     "metadata": {},
     "output_type": "execute_result"
    }
   ],
   "source": [
    "print(\"meta_df 크기 : \",meta_df.shape)\n",
    "# 세개 데이터를 Random으로 가져옴\n",
    "meta_df.sample(3, random_state=123)"
   ]
  },
  {
   "cell_type": "markdown",
   "metadata": {},
   "source": [
    "### 2) 데이터 탐색하기 - 컨텍스트 데이터"
   ]
  },
  {
   "cell_type": "code",
   "execution_count": 6,
   "metadata": {},
   "outputs": [
    {
     "data": {
      "text/plain": [
       "user          792\n",
       "item         2072\n",
       "daytime         7\n",
       "weekday         7\n",
       "isweekend       2\n",
       "homework        3\n",
       "cost            2\n",
       "weather         9\n",
       "country        78\n",
       "city          223\n",
       "cnt          1978\n",
       "dtype: int64"
      ]
     },
     "execution_count": 6,
     "metadata": {},
     "output_type": "execute_result"
    }
   ],
   "source": [
    "frappe_df.nunique()"
   ]
  },
  {
   "cell_type": "code",
   "execution_count": 7,
   "metadata": {},
   "outputs": [
    {
     "name": "stdout",
     "output_type": "stream",
     "text": [
      "daytime \n",
      " : ['morning' 'afternoon' 'evening' 'sunset' 'night' 'sunrise' 'noon']\n",
      "\n",
      "weekday \n",
      " : ['sunday' 'friday' 'tuesday' 'wednesday' 'saturday' 'monday' 'thursday']\n",
      "\n",
      "isweekend \n",
      " : ['weekend' 'workday']\n",
      "\n",
      "homework \n",
      " : ['unknown' 'home' 'work']\n",
      "\n",
      "cost \n",
      " : ['free' 'paid']\n",
      "\n",
      "weather \n",
      " : ['sunny' 'cloudy' 'drizzle' 'rainy' 'unknown' 'foggy' 'stormy' 'snowy'\n",
      " 'sleet']\n",
      "\n",
      "country \n",
      " : ['United States' 'Spain' 'unknown' 'Switzerland' 'Italy' 'India' 'Canada'\n",
      " 'France' 'United Kingdom' 'Greece' 'Peru' 'Lithuania' 'Poland' 'Israel'\n",
      " 'Palestine' 'Belgium' 'Slovenia' 'Ecuador' 'Mexico' 'Andorra'\n",
      " 'Netherlands' 'Australia' 'Germany' 'Cyprus' 'Austria' 'Hong Kong'\n",
      " 'Denmark' 'Sweden' 'Costa Rica' 'Morocco' 'Colombia' 'Iraq' 'Russia'\n",
      " 'Czech Rep.' 'Taiwan' 'Norway' 'New Zealand' 'Chile' 'South Africa'\n",
      " 'Macedonia' 'Kosovo' 'Bosnia and Herz.' 'Bulgaria' 'Montenegro' 'Albania'\n",
      " 'Saudi Arabia' 'Japan' 'Iran' 'Korea' 'Ireland' 'Brazil' 'Argentina'\n",
      " 'United Arab Emirates' 'Indonesia' 'Malaysia' 'Croatia' 'Hungary' 'Egypt'\n",
      " 'Singapore' 'Venezuela' 'Monaco' 'Serbia' 'Turkey' 'Philippines' 'Panama'\n",
      " 'Portugal' 'Lebanon' 'Estonia' 'Puerto Rico' 'Honduras' 'Romania' 'Malta'\n",
      " 'China' 'Thailand' 'Finland' 'Latvia' 'Jordan' 'Guatemala']\n",
      "\n"
     ]
    }
   ],
   "source": [
    "for col in frappe_df.drop([\"user\", \"item\", \"city\", \"cnt\"], axis=1):\n",
    "    print(\"{} \\n : {}\\n\".format(col, frappe_df[col].unique()))"
   ]
  },
  {
   "cell_type": "markdown",
   "metadata": {},
   "source": [
    "**(1) 유저별 활용 아이템의 수**"
   ]
  },
  {
   "cell_type": "code",
   "execution_count": 8,
   "metadata": {},
   "outputs": [
    {
     "name": "stdout",
     "output_type": "stream",
     "text": [
      "유저별 활용 아이템의 수 :  20.80429292929293\n"
     ]
    }
   ],
   "source": [
    "avg_items_per_user = (\n",
    "    frappe_df\n",
    "    [[\"user\", \"item\"]]\n",
    "    .drop_duplicates()\n",
    "    .groupby(\"user\")\n",
    "    .count()[\"item\"]\n",
    "    .mean()\n",
    ")\n",
    "print(\"유저별 활용 아이템의 수 : \", avg_items_per_user)"
   ]
  },
  {
   "cell_type": "code",
   "execution_count": 9,
   "metadata": {},
   "outputs": [
    {
     "data": {
      "image/png": "[encoded data removed]",
      "text/plain": [
       "<Figure size 432x288 with 1 Axes>"
      ]
     },
     "metadata": {},
     "output_type": "display_data"
    }
   ],
   "source": [
    "(\n",
    "    frappe_df\n",
    "    [[\"user\", \"item\"]]\n",
    "    .drop_duplicates()\n",
    "    [\"user\"]\n",
    "    .value_counts()\n",
    "    .plot(kind=\"hist\", bins=40)\n",
    ")\n",
    "\n",
    "plt.show()"
   ]
  },
  {
   "cell_type": "markdown",
   "metadata": {},
   "source": [
    "**(2) 아이템 별 카운트 수**"
   ]
  },
  {
   "cell_type": "code",
   "execution_count": 10,
   "metadata": {},
   "outputs": [
    {
     "name": "stdout",
     "output_type": "stream",
     "text": [
      "아이템 별 활용 아이템의 수 :  3748.007722007722\n"
     ]
    }
   ],
   "source": [
    "avg_cnt_per_item = (\n",
    "    frappe_df\n",
    "    .loc[:, [\"item\", \"cnt\"]]\n",
    "    .groupby(\"item\")\n",
    "    .sum()[\"cnt\"]\n",
    "    .mean()\n",
    ")\n",
    "print(\"아이템 별 활용 아이템의 수 : \", avg_cnt_per_item)"
   ]
  },
  {
   "cell_type": "code",
   "execution_count": 11,
   "metadata": {},
   "outputs": [
    {
     "data": {
      "image/png": "[encoded data removed]",
      "text/plain": [
       "<Figure size 432x288 with 1 Axes>"
      ]
     },
     "metadata": {},
     "output_type": "display_data"
    }
   ],
   "source": [
    "(\n",
    "    frappe_df\n",
    "    .loc[:, [\"item\", \"cnt\"]]\n",
    "    .groupby(\"item\")\n",
    "    .sum()[\"cnt\"]\n",
    "    .sort_values(ascending=False)\n",
    "    .plot(kind=\"hist\", bins=80)\n",
    ")\n",
    "\n",
    "plt.show()"
   ]
  },
  {
   "cell_type": "code",
   "execution_count": 12,
   "metadata": {},
   "outputs": [
    {
     "data": {
      "text/html": [
       "<div>\n",
       "<style scoped>\n",
       "    .dataframe tbody tr th:only-of-type {\n",
       "        vertical-align: middle;\n",
       "    }\n",
       "\n",
       "    .dataframe tbody tr th {\n",
       "        vertical-align: top;\n",
       "    }\n",
       "\n",
       "    .dataframe thead th {\n",
       "        text-align: right;\n",
       "    }\n",
       "</style>\n",
       "<table border=\"1\" class=\"dataframe\">\n",
       "  <thead>\n",
       "    <tr style=\"text-align: right;\">\n",
       "      <th></th>\n",
       "      <th>name</th>\n",
       "    </tr>\n",
       "  </thead>\n",
       "  <tbody>\n",
       "    <tr>\n",
       "      <th>5</th>\n",
       "      <td>WhatsApp Messenger</td>\n",
       "    </tr>\n",
       "    <tr>\n",
       "      <th>9</th>\n",
       "      <td>Maps</td>\n",
       "    </tr>\n",
       "    <tr>\n",
       "      <th>11</th>\n",
       "      <td>Twitter</td>\n",
       "    </tr>\n",
       "    <tr>\n",
       "      <th>16</th>\n",
       "      <td>Facebook</td>\n",
       "    </tr>\n",
       "    <tr>\n",
       "      <th>17</th>\n",
       "      <td>Google Search</td>\n",
       "    </tr>\n",
       "    <tr>\n",
       "      <th>21</th>\n",
       "      <td>Gmail</td>\n",
       "    </tr>\n",
       "    <tr>\n",
       "      <th>25</th>\n",
       "      <td>Chrome</td>\n",
       "    </tr>\n",
       "    <tr>\n",
       "      <th>33</th>\n",
       "      <td>Nova Launcher</td>\n",
       "    </tr>\n",
       "    <tr>\n",
       "      <th>40</th>\n",
       "      <td>Candy Crush Saga</td>\n",
       "    </tr>\n",
       "    <tr>\n",
       "      <th>65</th>\n",
       "      <td>YouTube</td>\n",
       "    </tr>\n",
       "  </tbody>\n",
       "</table>\n",
       "</div>"
      ],
      "text/plain": [
       "                  name\n",
       "5   WhatsApp Messenger\n",
       "9                 Maps\n",
       "11             Twitter\n",
       "16            Facebook\n",
       "17       Google Search\n",
       "21               Gmail\n",
       "25              Chrome\n",
       "33       Nova Launcher\n",
       "40    Candy Crush Saga\n",
       "65             YouTube"
      ]
     },
     "execution_count": 12,
     "metadata": {},
     "output_type": "execute_result"
    }
   ],
   "source": [
    "# 상위 10개 앱의 이름 가져오기\n",
    "top10_indices = (\n",
    "    frappe_df\n",
    "    [[\"item\", \"cnt\"]]\n",
    "    .groupby(\"item\")\n",
    "    ['cnt']\n",
    "    .sum()\n",
    "    .sort_values(ascending=False)\n",
    "    .iloc[:10]\n",
    "    .index)\n",
    "meta_df.loc[meta_df.item.isin(top10_indices),['name']]"
   ]
  },
  {
   "cell_type": "markdown",
   "metadata": {},
   "source": [
    "**(3) daytime과 weekday별 Count수 차이**"
   ]
  },
  {
   "cell_type": "code",
   "execution_count": 13,
   "metadata": {},
   "outputs": [
    {
     "data": {
      "image/png": "[encoded data removed]",
      "text/plain": [
       "<Figure size 432x288 with 1 Axes>"
      ]
     },
     "metadata": {},
     "output_type": "display_data"
    }
   ],
   "source": [
    "(\n",
    "    frappe_df\n",
    "    .loc[:, [\"daytime\", \"cnt\"]]\n",
    "    .groupby(\"daytime\")\n",
    "    .sum()\n",
    "    [\"cnt\"]\n",
    "    .sort_values(ascending=False)\n",
    "    .plot(kind=\"bar\")\n",
    ")\n",
    "plt.show()"
   ]
  },
  {
   "cell_type": "code",
   "execution_count": 14,
   "metadata": {},
   "outputs": [
    {
     "data": {
      "image/png": "[encoded data removed]",
      "text/plain": [
       "<Figure size 432x288 with 1 Axes>"
      ]
     },
     "metadata": {},
     "output_type": "display_data"
    }
   ],
   "source": [
    "# weekday에 따른 count수 합 차이\n",
    "(\n",
    "    frappe_df\n",
    "    .loc[:, [\"weekday\", \"cnt\"]]\n",
    "    .groupby(\"weekday\")\n",
    "    .sum()\n",
    "    [\"cnt\"]\n",
    "    .sort_values(ascending=False)    \n",
    "    .plot(kind=\"bar\")\n",
    ")\n",
    "plt.show()"
   ]
  },
  {
   "cell_type": "markdown",
   "metadata": {},
   "source": [
    "### 3) 상호작용 효과 파악하기"
   ]
  },
  {
   "cell_type": "code",
   "execution_count": 15,
   "metadata": {},
   "outputs": [
    {
     "data": {
      "image/png": "[encoded data removed]",
      "text/plain": [
       "<Figure size 576x360 with 2 Axes>"
      ]
     },
     "metadata": {},
     "output_type": "display_data"
    }
   ],
   "source": [
    "# 카운트 수에 따른 요일과 시간구간의 순서\n",
    "order_weekday = (\n",
    "    frappe_df\n",
    "    .loc[:, [\"weekday\", \"cnt\"]]\n",
    "    .groupby(\"weekday\")\n",
    "    .sum()\n",
    "    .sort_values(\"cnt\", ascending=False)\n",
    "    .index\n",
    ")\n",
    "\n",
    "order_daytime = (\n",
    "    frappe_df\n",
    "    .loc[:, [\"daytime\", \"cnt\"]]\n",
    "    .groupby(\"daytime\")\n",
    "    .sum()\n",
    "    .sort_values(\"cnt\", ascending=False)\n",
    "    .index\n",
    ")\n",
    "\n",
    "# weekday와 Daytime에 따른 count수 합 차이\n",
    "heat_df = (\n",
    "    frappe_df\n",
    "    .loc[:, [\"weekday\", \"daytime\",\"cnt\"]]\n",
    "    .pivot_table(values=[\"cnt\"], index=[\"daytime\"], columns=['weekday'], aggfunc=np.sum)\n",
    "    [\"cnt\"]\n",
    "    .loc[order_daytime, order_weekday]\n",
    ")\n",
    "\n",
    "plt.figure(figsize=(8,5))\n",
    "plt.pcolor(heat_df)\n",
    "plt.title(\"Heatmap of count by weekday and daytime\\n\")\n",
    "plt.yticks(np.arange(0.5, len(heat_df.index), 1), heat_df.index)\n",
    "plt.xticks(np.arange(0.5, len(heat_df.columns), 1), heat_df.columns)\n",
    "plt.colorbar()\n",
    "plt.show()"
   ]
  },
  {
   "cell_type": "code",
   "execution_count": 16,
   "metadata": {},
   "outputs": [
    {
     "data": {
      "image/png": "[encoded data removed]",
      "text/plain": [
       "<Figure size 864x288 with 2 Axes>"
      ]
     },
     "metadata": {},
     "output_type": "display_data"
    }
   ],
   "source": [
    "# 날씨에 따른 두 히트맵의 변화\n",
    "# rainy 일 때\n",
    "rainy_heat_df = (\n",
    "    frappe_df\n",
    "    .loc[frappe_df[\"weather\"] == \"rainy\", [\"weekday\", \"daytime\",\"cnt\"]]\n",
    "    .pivot_table(values=[\"cnt\"], index=[\"daytime\"], columns=['weekday'], aggfunc=np.sum)\n",
    "    [\"cnt\"]\n",
    "    .reindex(order_daytime, columns=order_weekday)\n",
    ")\n",
    "\n",
    "# sunny 일 때\n",
    "sunny_heat_df = (\n",
    "    frappe_df\n",
    "    .loc[frappe_df[\"weather\"] == \"sunny\", [\"weekday\", \"daytime\",\"cnt\"]]\n",
    "    .pivot_table(values=[\"cnt\"], index=[\"daytime\"], columns=['weekday'], aggfunc=np.sum)\n",
    "    [\"cnt\"]\n",
    "    .reindex(order_daytime, columns=order_weekday)\n",
    ")\n",
    "\n",
    "fig, axes = plt.subplots(nrows=1, ncols=2,figsize=(12,4))\n",
    "\n",
    "plt.setp(axes, \n",
    "         xticks=np.arange(0.5, len(rainy_heat_df.columns), 1), \n",
    "         xticklabels=rainy_heat_df.columns,\n",
    "         yticks=np.arange(0.5, len(heat_df.index), 1),\n",
    "         yticklabels=heat_df.index,\n",
    ")\n",
    "\n",
    "plt.sca(axes[0])\n",
    "plt.pcolor(rainy_heat_df)\n",
    "plt.title('rainy')\n",
    "\n",
    "plt.sca(axes[1])\n",
    "plt.pcolor(sunny_heat_df)\n",
    "plt.title('sunny')\n",
    "\n",
    "fig.tight_layout()\n",
    "plt.show()"
   ]
  },
  {
   "cell_type": "markdown",
   "metadata": {},
   "source": [
    "### 3) 데이터 탐색하기 - 아이템 컨텐츠 데이터(특성 데이터)"
   ]
  },
  {
   "cell_type": "markdown",
   "metadata": {},
   "source": [
    "meta_df 에는 각 item 의 특성들이 저장되어있습니다. 이를 확인해 보겠습니다."
   ]
  },
  {
   "cell_type": "code",
   "execution_count": 17,
   "metadata": {},
   "outputs": [
    {
     "data": {
      "image/png": "[encoded data removed]",
      "text/plain": [
       "<Figure size 864x288 with 1 Axes>"
      ]
     },
     "metadata": {},
     "output_type": "display_data"
    }
   ],
   "source": [
    "# 앱의 개수별\n",
    "(\n",
    "    meta_df\n",
    "    [\"category\"]\n",
    "    .value_counts(ascending=False)\n",
    "    .plot(kind=\"bar\",figsize=(12,4))\n",
    ")\n",
    "plt.show()"
   ]
  },
  {
   "cell_type": "code",
   "execution_count": 18,
   "metadata": {},
   "outputs": [
    {
     "data": {
      "image/png": "[encoded data removed]",
      "text/plain": [
       "<Figure size 864x288 with 1 Axes>"
      ]
     },
     "metadata": {},
     "output_type": "display_data"
    }
   ],
   "source": [
    "# Category 별 총 카운트 수 비교\n",
    "merged_df = pd.merge(frappe_df, meta_df.loc[:, [\"item\", \"category\"]], on=\"item\" )\n",
    "\n",
    "(\n",
    "    merged_df[[\"category\", \"cnt\"]]\n",
    "    .groupby(\"category\")\n",
    "    .sum()\n",
    "    .sort_values(by=\"cnt\", ascending=False)\n",
    "    .plot(kind=\"bar\", figsize=(12,4))\n",
    ")\n",
    "plt.show()"
   ]
  },
  {
   "cell_type": "markdown",
   "metadata": {},
   "source": [
    "Meta_df 데이터셋은 추천할 아이템이 무엇인지 확인할 때 사용하도록 합시다."
   ]
  },
  {
   "cell_type": "markdown",
   "metadata": {},
   "source": [
    "## 2 . 문제정의 및 목표 설정"
   ]
  },
  {
   "cell_type": "markdown",
   "metadata": {},
   "source": [
    "살펴본 Frappe Dataset을 통해 각 컬럼을 다음과 같이 정리할 수 있습니다.<br>\n",
    "\n",
    "![](https://i.imgur.com/RVO0ZYI.png) \n",
    "\n",
    "추천 목적에 따라서 추천시스템의 알고리즘과 측정 방법 등이 크게 달라집니다. 따라서, 우리는 주어진 데이터로 구성할 추천시스템의 목적을 명확히 할 필요가 있습니다. 이번 Frappe Dataset이라면 다음과 같은 시나리오를 구성해 볼 수 있겠지요.\n",
    "\n",
    "1. 현재 상황에서 특정 어플이 없는 유저(user)에게 어플 추천 광고 집행\n",
    "2. 특정 어플이 있는 유저에게 사용량(cnt)을 더욱 증가시키기 위해 상황에 따른 알림\n",
    "3. 고객에게 상황에 따른 어플 내부 결제 유도 쿠폰 제공\n",
    "4. 특정어플을 고객이 다양한 환경에서 사용하도록 유도하는 최적의 알림 타이밍\n",
    "5. ... 등등\n",
    "\n",
    "이러한 시나리오에 나타나는 추천시스템의 특성이나 목적, 상황에 따라 도메인지식을 활용하여 필요한 추천시스템에 대한 문제를 정의해야 합니다. 이번 시간에는 \"특정 상황에서 고객이 한번 쯤 사용해볼 것 같은 어플을 찾는 추천시스템\"으로 목표를 설정해 보겠습니다. 즉, 특정 상황에서 유저가 한번도 사용하지 않았던 어플 중 가장 관심있어 할만한 어플을 찾아주는 문제로 정의할 수 있습니다.<br>\n",
    "\n",
    "따라서, 이번시간에 우리가 다루는 Frappe 데이터 또한 \"특정상황에서 실행했던 앱이라면 `True`로 설정\"하여 다루고자 합니다. 문제는 아래와 같이 바꿔줄 수 있습니다."
   ]
  },
  {
   "cell_type": "code",
   "execution_count": 19,
   "metadata": {},
   "outputs": [
    {
     "data": {
      "text/plain": [
       "0         1\n",
       "1         2\n",
       "2         9\n",
       "3         2\n",
       "4         1\n",
       "         ..\n",
       "93303     1\n",
       "93304     1\n",
       "93305    13\n",
       "93306     3\n",
       "93307     3\n",
       "Name: cnt, Length: 93308, dtype: int64"
      ]
     },
     "execution_count": 19,
     "metadata": {},
     "output_type": "execute_result"
    }
   ],
   "source": [
    "# 기존의 cnt(count) 의 형태 -> 특정 환경에서 해당 어플을 몇번 열었는가\n",
    "frappe_df.cnt"
   ]
  },
  {
   "cell_type": "code",
   "execution_count": 20,
   "metadata": {},
   "outputs": [
    {
     "data": {
      "text/plain": [
       "0        True\n",
       "1        True\n",
       "2        True\n",
       "3        True\n",
       "4        True\n",
       "         ... \n",
       "93303    True\n",
       "93304    True\n",
       "93305    True\n",
       "93306    True\n",
       "93307    True\n",
       "Name: cnt, Length: 93308, dtype: bool"
      ]
     },
     "execution_count": 20,
     "metadata": {},
     "output_type": "execute_result"
    }
   ],
   "source": [
    "# 다음과 같이, 1번 이상 로그가 있는 Context 에 대해서는 모두 \"클릭을 했다\" 라는 의미로 `True`로 변경해주었습니다.\n",
    "frappe_df[\"cnt\"] = True\n",
    "frappe_df.cnt"
   ]
  },
  {
   "cell_type": "markdown",
   "metadata": {},
   "source": [
    "# \\[ 2. 기본 개념 \\] \n",
    "---\n",
    "\n"
   ]
  },
  {
   "cell_type": "markdown",
   "metadata": {},
   "source": [
    "## 1.DeepFM의 구조\n",
    "\n",
    "[논문 DeepFM: A Factorization-Machine based Neural Network for CTR Prediction](https://arxiv.org/pdf/1703.04247.pdf)<br>\n",
    "이번시간에 배울 DeepFM의 구조는 다음과 같습니다.<br>\n",
    "\n",
    "![deepFM의 구조](https://i.imgur.com/qkpnkrH.png)"
   ]
  },
  {
   "cell_type": "markdown",
   "metadata": {},
   "source": [
    "## 2. DeepFM의 아이디어와 특징"
   ]
  },
  {
   "cell_type": "markdown",
   "metadata": {},
   "source": [
    "### 특징 1. 각 피쳐의 임베딩을 FM모델과 DeepLearning 모델이 공유하고 있다.\n",
    "\n",
    "피쳐 엔지니어링에 들어가는 수고를 많이 덜어낼 수 있습니다.\n",
    "\n",
    "### 특징 2. 미리 학습(Pre-trained)하지 않고 한번의 Input으로 End-to-end로 진행한다.\n",
    "\n",
    "다른 모델의 경우 FM으로 미리 한번 학습된 Embedding으로 Deeplearning모델을 학습하는 경우가 있습니다. 한번에 모델을 학습시킬 수 있으므로, 학습의 어려움이 적습니다.\n"
   ]
  },
  {
   "cell_type": "markdown",
   "metadata": {},
   "source": [
    "# \\[ 3. 알고리즘 \\]\n",
    "---"
   ]
  },
  {
   "cell_type": "markdown",
   "metadata": {},
   "source": [
    "## 2. deepFM 모델 구성하기"
   ]
  },
  {
   "cell_type": "markdown",
   "metadata": {},
   "source": [
    "### (1) 입력부분 구성하기"
   ]
  },
  {
   "cell_type": "markdown",
   "metadata": {},
   "source": [
    "모델의 입력 변수로는 아래의 것들이 필요합니다. \n",
    "\n",
    "* $x_{user}$\n",
    "* $x_{item}$\n",
    "* $x_{daytime}$\n",
    "* $x_{weekday}$\n",
    "* $x_{isweekend}$\n",
    "* $x_{homework}$\n",
    "* $x_{cost}$\n",
    "* $x_{weather}$\n",
    "* $x_{country}$\n",
    "* $x_{city}$"
   ]
  },
  {
   "cell_type": "code",
   "execution_count": 21,
   "metadata": {},
   "outputs": [
    {
     "data": {
      "text/html": [
       "<div>\n",
       "<style scoped>\n",
       "    .dataframe tbody tr th:only-of-type {\n",
       "        vertical-align: middle;\n",
       "    }\n",
       "\n",
       "    .dataframe tbody tr th {\n",
       "        vertical-align: top;\n",
       "    }\n",
       "\n",
       "    .dataframe thead th {\n",
       "        text-align: right;\n",
       "    }\n",
       "</style>\n",
       "<table border=\"1\" class=\"dataframe\">\n",
       "  <thead>\n",
       "    <tr style=\"text-align: right;\">\n",
       "      <th></th>\n",
       "      <th>user</th>\n",
       "      <th>item</th>\n",
       "      <th>daytime</th>\n",
       "      <th>weekday</th>\n",
       "      <th>isweekend</th>\n",
       "      <th>homework</th>\n",
       "      <th>cost</th>\n",
       "      <th>weather</th>\n",
       "      <th>country</th>\n",
       "      <th>city</th>\n",
       "      <th>cnt</th>\n",
       "    </tr>\n",
       "  </thead>\n",
       "  <tbody>\n",
       "    <tr>\n",
       "      <th>0</th>\n",
       "      <td>0</td>\n",
       "      <td>0</td>\n",
       "      <td>morning</td>\n",
       "      <td>sunday</td>\n",
       "      <td>weekend</td>\n",
       "      <td>unknown</td>\n",
       "      <td>free</td>\n",
       "      <td>sunny</td>\n",
       "      <td>United States</td>\n",
       "      <td>0</td>\n",
       "      <td>True</td>\n",
       "    </tr>\n",
       "    <tr>\n",
       "      <th>1</th>\n",
       "      <td>0</td>\n",
       "      <td>9</td>\n",
       "      <td>afternoon</td>\n",
       "      <td>friday</td>\n",
       "      <td>workday</td>\n",
       "      <td>unknown</td>\n",
       "      <td>free</td>\n",
       "      <td>cloudy</td>\n",
       "      <td>United States</td>\n",
       "      <td>1023</td>\n",
       "      <td>True</td>\n",
       "    </tr>\n",
       "    <tr>\n",
       "      <th>2</th>\n",
       "      <td>0</td>\n",
       "      <td>9</td>\n",
       "      <td>evening</td>\n",
       "      <td>friday</td>\n",
       "      <td>weekend</td>\n",
       "      <td>unknown</td>\n",
       "      <td>free</td>\n",
       "      <td>cloudy</td>\n",
       "      <td>United States</td>\n",
       "      <td>1023</td>\n",
       "      <td>True</td>\n",
       "    </tr>\n",
       "    <tr>\n",
       "      <th>3</th>\n",
       "      <td>0</td>\n",
       "      <td>14</td>\n",
       "      <td>afternoon</td>\n",
       "      <td>friday</td>\n",
       "      <td>workday</td>\n",
       "      <td>unknown</td>\n",
       "      <td>free</td>\n",
       "      <td>cloudy</td>\n",
       "      <td>United States</td>\n",
       "      <td>1023</td>\n",
       "      <td>True</td>\n",
       "    </tr>\n",
       "    <tr>\n",
       "      <th>4</th>\n",
       "      <td>0</td>\n",
       "      <td>16</td>\n",
       "      <td>evening</td>\n",
       "      <td>friday</td>\n",
       "      <td>weekend</td>\n",
       "      <td>unknown</td>\n",
       "      <td>free</td>\n",
       "      <td>cloudy</td>\n",
       "      <td>United States</td>\n",
       "      <td>1023</td>\n",
       "      <td>True</td>\n",
       "    </tr>\n",
       "  </tbody>\n",
       "</table>\n",
       "</div>"
      ],
      "text/plain": [
       "   user  item    daytime weekday isweekend homework  cost weather  \\\n",
       "0     0     0    morning  sunday   weekend  unknown  free   sunny   \n",
       "1     0     9  afternoon  friday   workday  unknown  free  cloudy   \n",
       "2     0     9    evening  friday   weekend  unknown  free  cloudy   \n",
       "3     0    14  afternoon  friday   workday  unknown  free  cloudy   \n",
       "4     0    16    evening  friday   weekend  unknown  free  cloudy   \n",
       "\n",
       "         country  city   cnt  \n",
       "0  United States     0  True  \n",
       "1  United States  1023  True  \n",
       "2  United States  1023  True  \n",
       "3  United States  1023  True  \n",
       "4  United States  1023  True  "
      ]
     },
     "execution_count": 21,
     "metadata": {},
     "output_type": "execute_result"
    }
   ],
   "source": [
    "frappe_df.head(5)"
   ]
  },
  {
   "cell_type": "markdown",
   "metadata": {},
   "source": [
    "현재 모든 데이터는 명목형 변수, 즉 카테고리형 데이터로 입력값의 형태는 0차원, 즉 Index로만 존재하게 됩니다."
   ]
  },
  {
   "cell_type": "code",
   "execution_count": 22,
   "metadata": {},
   "outputs": [
    {
     "name": "stdout",
     "output_type": "stream",
     "text": [
      "user의 데이터 구성: (93308,)\n",
      "\n",
      "item의 데이터 구성: (93308,)\n",
      "\n",
      "daytime의 데이터 구성: (93308,)\n",
      "\n",
      "weekday의 데이터 구성: (93308,)\n",
      "\n",
      "isweekend의 데이터 구성: (93308,)\n",
      "\n",
      "homework의 데이터 구성: (93308,)\n",
      "\n",
      "cost의 데이터 구성: (93308,)\n",
      "\n",
      "weather의 데이터 구성: (93308,)\n",
      "\n",
      "country의 데이터 구성: (93308,)\n",
      "\n",
      "city의 데이터 구성: (93308,)\n",
      "\n",
      "cnt의 데이터 구성: (93308,)\n",
      "\n"
     ]
    }
   ],
   "source": [
    "for col_name in frappe_df.columns:    \n",
    "    print(f\"{col_name}의 데이터 구성: {frappe_df[col_name].shape}\\n\")"
   ]
  },
  {
   "cell_type": "markdown",
   "metadata": {},
   "source": [
    "위의 구성에서 93308은 데이터의 갯수를 의미하는 축이고, 데이터의 Shape은 이후 숫자가 데이터의 Shape이 됩니다. 현재 각 데이터의 Shape은 0차원입니다.\n",
    "이러한 데이터를 입력받기 위해서는 차원이 ()인 `Input`레이어를 만들어 주어야 합니다."
   ]
  },
  {
   "cell_type": "code",
   "execution_count": 23,
   "metadata": {},
   "outputs": [],
   "source": [
    "from tensorflow.keras.layers import Input\n",
    "\n",
    "inputs = {}\n",
    "for col_name in frappe_df.columns:\n",
    "    if col_name == 'cnt':\n",
    "        # 종속 변수는 입력값에서 제거\n",
    "        continue\n",
    "    \n",
    "    x = Input(shape=(), name=col_name)\n",
    "    inputs[col_name] = x"
   ]
  },
  {
   "cell_type": "code",
   "execution_count": 24,
   "metadata": {},
   "outputs": [
    {
     "data": {
      "text/plain": [
       "{'user': <tf.Tensor 'user:0' shape=(None,) dtype=float32>,\n",
       " 'item': <tf.Tensor 'item:0' shape=(None,) dtype=float32>,\n",
       " 'daytime': <tf.Tensor 'daytime:0' shape=(None,) dtype=float32>,\n",
       " 'weekday': <tf.Tensor 'weekday:0' shape=(None,) dtype=float32>,\n",
       " 'isweekend': <tf.Tensor 'isweekend:0' shape=(None,) dtype=float32>,\n",
       " 'homework': <tf.Tensor 'homework:0' shape=(None,) dtype=float32>,\n",
       " 'cost': <tf.Tensor 'cost:0' shape=(None,) dtype=float32>,\n",
       " 'weather': <tf.Tensor 'weather:0' shape=(None,) dtype=float32>,\n",
       " 'country': <tf.Tensor 'country:0' shape=(None,) dtype=float32>,\n",
       " 'city': <tf.Tensor 'city:0' shape=(None,) dtype=float32>}"
      ]
     },
     "execution_count": 24,
     "metadata": {},
     "output_type": "execute_result"
    }
   ],
   "source": [
    "inputs"
   ]
  },
  {
   "cell_type": "markdown",
   "metadata": {},
   "source": [
    "### (1) 선형회귀 부분 구성하기 (Order-1)\n",
    "\n",
    "$$\n",
    "logits_{LR} = bias + W_{user} X_{user} + W_{item} X_{item} + W_{daytime} X_{daytime} + \\cdots\n",
    "$$\n",
    "\n",
    "여기서 명목형 변수는 결국 인덱싱으로 들어가게 되고 식의 구조는 아래와 같이 가중치의 합으로 표현되게 됩니다.\n",
    "\n",
    "$$\n",
    "logits_{LR} = bias + w_{user} + w_{item} + w_{daytime} + \\cdots\n",
    "$$"
   ]
  },
  {
   "cell_type": "code",
   "execution_count": 25,
   "metadata": {},
   "outputs": [],
   "source": [
    "from tensorflow.keras.layers import Embedding\n",
    "\n",
    "linear_embeds = []\n",
    "for col_name in frappe_df.columns:\n",
    "    if col_name == 'cnt':\n",
    "        continue\n",
    "    num_category = frappe_df[col_name].nunique()        \n",
    "        \n",
    "    x = inputs[col_name]\n",
    "    lr_out = Embedding(num_category, 1,\n",
    "                       name=f'{col_name}_lr_embed')(x)\n",
    "    linear_embeds.append(lr_out)"
   ]
  },
  {
   "cell_type": "code",
   "execution_count": 26,
   "metadata": {},
   "outputs": [
    {
     "data": {
      "text/plain": [
       "[<tf.Tensor 'user_lr_embed/Identity:0' shape=(None, 1) dtype=float32>,\n",
       " <tf.Tensor 'item_lr_embed/Identity:0' shape=(None, 1) dtype=float32>,\n",
       " <tf.Tensor 'daytime_lr_embed/Identity:0' shape=(None, 1) dtype=float32>,\n",
       " <tf.Tensor 'weekday_lr_embed/Identity:0' shape=(None, 1) dtype=float32>,\n",
       " <tf.Tensor 'isweekend_lr_embed/Identity:0' shape=(None, 1) dtype=float32>,\n",
       " <tf.Tensor 'homework_lr_embed/Identity:0' shape=(None, 1) dtype=float32>,\n",
       " <tf.Tensor 'cost_lr_embed/Identity:0' shape=(None, 1) dtype=float32>,\n",
       " <tf.Tensor 'weather_lr_embed/Identity:0' shape=(None, 1) dtype=float32>,\n",
       " <tf.Tensor 'country_lr_embed/Identity:0' shape=(None, 1) dtype=float32>,\n",
       " <tf.Tensor 'city_lr_embed/Identity:0' shape=(None, 1) dtype=float32>]"
      ]
     },
     "execution_count": 26,
     "metadata": {},
     "output_type": "execute_result"
    }
   ],
   "source": [
    "linear_embeds"
   ]
  },
  {
   "cell_type": "markdown",
   "metadata": {},
   "source": [
    "#### Linear Regression을 위한 Custom 연산층 구성하기\n",
    "\n",
    "우리는 위에서 가져온 모든 가중치들을 더해주면 됩니다."
   ]
  },
  {
   "cell_type": "code",
   "execution_count": 27,
   "metadata": {},
   "outputs": [],
   "source": [
    "from tensorflow.keras.layers import Layer\n",
    "\n",
    "class LinearModel(Layer):\n",
    "    \"\"\"\n",
    "    Linear Logit\n",
    "    y = w0 + w1 + w2 + ...\n",
    "    \"\"\"\n",
    "    def build(self, input_shape):\n",
    "        self.b = self.add_weight(shape=(1,),\n",
    "                                 initializer='zeros',\n",
    "                                 trainable=True)\n",
    "        super().build(input_shape)    \n",
    "    \n",
    "    def call(self, inputs, **kwargs):\n",
    "        logits = tf.add_n(inputs) + self.b\n",
    "        return logits"
   ]
  },
  {
   "cell_type": "code",
   "execution_count": 28,
   "metadata": {},
   "outputs": [
    {
     "data": {
      "text/plain": [
       "<tf.Tensor 'lr/Identity:0' shape=(None, 1) dtype=float32>"
      ]
     },
     "execution_count": 28,
     "metadata": {},
     "output_type": "execute_result"
    }
   ],
   "source": [
    "lr_logits = LinearModel(name='lr')(linear_embeds)\n",
    "lr_logits"
   ]
  },
  {
   "cell_type": "markdown",
   "metadata": {},
   "source": [
    "### (2) Factorization 부분 구성하기 (Order-2)"
   ]
  },
  {
   "cell_type": "code",
   "execution_count": 29,
   "metadata": {},
   "outputs": [
    {
     "name": "stdout",
     "output_type": "stream",
     "text": [
      "user에 대한 임베딩 행렬 : (792, 5)\n",
      "item에 대한 임베딩 행렬 : (2072, 5)\n",
      "daytime에 대한 임베딩 행렬 : (7, 5)\n",
      "weekday에 대한 임베딩 행렬 : (7, 5)\n",
      "isweekend에 대한 임베딩 행렬 : (2, 5)\n",
      "homework에 대한 임베딩 행렬 : (3, 5)\n",
      "cost에 대한 임베딩 행렬 : (2, 5)\n",
      "weather에 대한 임베딩 행렬 : (9, 5)\n",
      "country에 대한 임베딩 행렬 : (78, 5)\n",
      "city에 대한 임베딩 행렬 : (223, 5)\n"
     ]
    }
   ],
   "source": [
    "fm_size = 5\n",
    "\n",
    "fm_embeds = []\n",
    "for col_name in frappe_df.columns:\n",
    "    if col_name == 'cnt':\n",
    "        continue\n",
    "    num_category = frappe_df[col_name].nunique()\n",
    "\n",
    "    x = inputs[col_name]\n",
    "    \n",
    "    # 임베딩 행렬 선언하기\n",
    "    embedding_layer = Embedding(num_category, fm_size,\n",
    "                       name=f'{col_name}_fm_embed')\n",
    "    embed_out = embedding_layer(x)\n",
    "    \n",
    "    # 출력된 임베딩 벡터 담기\n",
    "    fm_embeds.append(embed_out)\n",
    "    \n",
    "    weight = embedding_layer.get_weights()[0]\n",
    "    print(f\"{col_name}에 대한 임베딩 행렬 : {weight.shape}\")"
   ]
  },
  {
   "cell_type": "markdown",
   "metadata": {},
   "source": [
    "#### 상호작용 연산 부분을 위한 Custom 연산층 구성하기\n",
    "\n",
    "$$logits_{fm} =  \\sum^n_{i=1}\\sum^n_{j=i+1}\\langle \\mathbf{v}_i,\\mathbf{v}_j \\rangle x_ix_j$$\n",
    "\n",
    "위의 수식을 보다 빠르게 계산하기 위해 식을 정리하면 아래와 같은 꼴로 정리됩니다.\n",
    "\n",
    "$$ logits_{fm} = \\frac{1}{2} \\sum^k_{f=1}\\Bigg(\\bigg(\\sum^n_{i=1}v_{i,f}x_i\\bigg)^2 - \\sum^n_{i=1}v^2_{i,f}x^2_i\\Bigg) $$\n"
   ]
  },
  {
   "cell_type": "code",
   "execution_count": 30,
   "metadata": {},
   "outputs": [],
   "source": [
    "class FactorizationMachine(Layer):\n",
    "    \"\"\"\n",
    "    Factorization Machine Layer\n",
    "    \"\"\"\n",
    "    def call(self, inputs, **kwargs):\n",
    "        # List of (# Batch, # Embed) -> (# Batch, # Features ,# Embed)\n",
    "        inputs = tf.stack(inputs, axis=1) \n",
    "        \n",
    "        logits = tf.reduce_sum(\n",
    "            tf.square(tf.reduce_sum(inputs, axis=1))\n",
    "            - tf.reduce_sum(tf.square(inputs), axis=1)\n",
    "            , axis=1, keepdims=True) / 2.\n",
    "        return logits"
   ]
  },
  {
   "cell_type": "code",
   "execution_count": 31,
   "metadata": {},
   "outputs": [],
   "source": [
    "fm_logits = FactorizationMachine(name='fm')(fm_embeds)"
   ]
  },
  {
   "cell_type": "markdown",
   "metadata": {},
   "source": [
    "### (3) DeepFM 부분 구성하기 (Order-3)"
   ]
  },
  {
   "cell_type": "markdown",
   "metadata": {},
   "source": [
    "#### 상호작용 임베딩 벡터를 하나의 벡터로 붙이기"
   ]
  },
  {
   "cell_type": "code",
   "execution_count": 32,
   "metadata": {},
   "outputs": [],
   "source": [
    "from tensorflow.keras.layers import Concatenate\n",
    "\n",
    "deep_inputs = Concatenate()(fm_embeds)"
   ]
  },
  {
   "cell_type": "code",
   "execution_count": 33,
   "metadata": {},
   "outputs": [
    {
     "data": {
      "text/plain": [
       "<tf.Tensor 'concatenate/Identity:0' shape=(None, 50) dtype=float32>"
      ]
     },
     "execution_count": 33,
     "metadata": {},
     "output_type": "execute_result"
    }
   ],
   "source": [
    "deep_inputs"
   ]
  },
  {
   "cell_type": "markdown",
   "metadata": {},
   "source": [
    "#### Dense Layer를 통한 MLP 구현하기"
   ]
  },
  {
   "cell_type": "code",
   "execution_count": 34,
   "metadata": {},
   "outputs": [],
   "source": [
    "from tensorflow.keras.layers import Dense\n",
    "from tensorflow.keras.layers import Dropout\n",
    "\n",
    "h = Dense(100, 'relu')(deep_inputs)\n",
    "h = Dropout(0.5)(h)\n",
    "h = Dense(100, 'relu')(h)\n",
    "h = Dropout(0.5)(h)\n",
    "h = Dense(100, 'relu')(h)\n",
    "h = Dropout(0.5)(h)\n",
    "deep_logits = Dense(1)(h)"
   ]
  },
  {
   "cell_type": "code",
   "execution_count": 35,
   "metadata": {},
   "outputs": [
    {
     "data": {
      "text/plain": [
       "<tf.Tensor 'dense_3/Identity:0' shape=(None, 1) dtype=float32>"
      ]
     },
     "execution_count": 35,
     "metadata": {},
     "output_type": "execute_result"
    }
   ],
   "source": [
    "deep_logits"
   ]
  },
  {
   "cell_type": "markdown",
   "metadata": {},
   "source": [
    "### (4) 출력층 구성하기\n"
   ]
  },
  {
   "cell_type": "code",
   "execution_count": 36,
   "metadata": {},
   "outputs": [],
   "source": [
    "from tensorflow.keras.activations import sigmoid\n",
    "from tensorflow.keras.layers import Add\n",
    "\n",
    "logits = Add()([lr_logits, fm_logits, deep_logits])\n",
    "pred = sigmoid(logits)"
   ]
  },
  {
   "cell_type": "code",
   "execution_count": 37,
   "metadata": {},
   "outputs": [
    {
     "data": {
      "text/plain": [
       "<tf.Tensor 'Sigmoid:0' shape=(None, 1) dtype=float32>"
      ]
     },
     "execution_count": 37,
     "metadata": {},
     "output_type": "execute_result"
    }
   ],
   "source": [
    "pred"
   ]
  },
  {
   "cell_type": "markdown",
   "metadata": {},
   "source": [
    "### (5) 모델 인스턴스 생성하기"
   ]
  },
  {
   "cell_type": "code",
   "execution_count": 38,
   "metadata": {},
   "outputs": [],
   "source": [
    "from tensorflow.keras.models import Model\n",
    "\n",
    "model = Model(inputs, pred, name='frappe_deepfm')"
   ]
  },
  {
   "cell_type": "markdown",
   "metadata": {},
   "source": [
    "### (6) 모델 컴파일하기"
   ]
  },
  {
   "cell_type": "markdown",
   "metadata": {},
   "source": [
    "#### Regularization 부분 구성하기"
   ]
  },
  {
   "cell_type": "code",
   "execution_count": 39,
   "metadata": {},
   "outputs": [],
   "source": [
    "l2_loss = 1e-4 * (tf.reduce_sum([embed **2 for embed in linear_embeds]) \n",
    "                  + tf.reduce_sum([embed **2 for embed in fm_embeds]))\n",
    "model.add_loss(l2_loss)"
   ]
  },
  {
   "cell_type": "markdown",
   "metadata": {},
   "source": [
    "#### Optimizer와 Loss 구성하기"
   ]
  },
  {
   "cell_type": "code",
   "execution_count": 40,
   "metadata": {},
   "outputs": [],
   "source": [
    "from tensorflow.keras import losses\n",
    "from tensorflow.keras import metrics\n",
    "from tensorflow.keras.optimizers import Adagrad"
   ]
  },
  {
   "cell_type": "code",
   "execution_count": 41,
   "metadata": {},
   "outputs": [],
   "source": [
    "optm = Adagrad(learning_rate=.1)\n",
    "mse_loss = losses.BinaryCrossentropy()\n",
    "metric_list = [metrics.BinaryCrossentropy()]\n",
    "\n",
    "# model에 컴파일하여 loss 및 옵티마이저 적용\n",
    "model.compile(optimizer=optm,\n",
    "              loss=mse_loss, \n",
    "              metrics=metric_list)"
   ]
  },
  {
   "cell_type": "markdown",
   "metadata": {},
   "source": [
    "## 3. 데이터 구성하기"
   ]
  },
  {
   "cell_type": "markdown",
   "metadata": {},
   "source": [
    "### (1) 명목형 데이터의 인덱싱 표 만들기\n",
    "\n",
    "명목형 데이터에서 각 값을 임베딩 행렬에서 몇 번째 벡터를 가르키는지를 지칭하는 임베딩 인덱스로 바꾸어 주기 위해서, 인덱싱 표를 생성합니다."
   ]
  },
  {
   "cell_type": "code",
   "execution_count": 42,
   "metadata": {},
   "outputs": [],
   "source": [
    "def cate2int(df):\n",
    "    df = df.copy()\n",
    "    cate_sizes = {}\n",
    "    cate_mapper = {}\n",
    "    for col_name in df.columns:\n",
    "        if col_name == 'cnt':\n",
    "            continue\n",
    "        df.loc[:, col_name] = df.loc[:, col_name].astype('category')\n",
    "        \n",
    "        if pd.api.types.is_categorical_dtype(df[col_name]):\n",
    "            cate_mapper[col_name] = {c:i for i, c in enumerate(df[col_name].cat.categories)}\n",
    "            cate_sizes[col_name] = len(df[col_name].cat.categories)\n",
    "            df.loc[:,col_name] = df[col_name].cat.codes\n",
    "    return cate_mapper, cate_sizes"
   ]
  },
  {
   "cell_type": "code",
   "execution_count": 43,
   "metadata": {},
   "outputs": [],
   "source": [
    "cate_mapper, cate_sizes = cate2int(frappe_df)"
   ]
  },
  {
   "cell_type": "markdown",
   "metadata": {},
   "source": [
    "### (2) trainset과 testset으로 구분하기\n",
    "\n",
    "학습데이터셋과 테스트 데이터 셋을 분리합니다. 이 때, 테스트데이터셋은 무작위로 10%를 분리하였습니다.\n"
   ]
  },
  {
   "cell_type": "code",
   "execution_count": 44,
   "metadata": {},
   "outputs": [],
   "source": [
    "from sklearn.model_selection import train_test_split\n",
    "\n",
    "train_df, test_df = train_test_split(frappe_df, test_size=0.1)"
   ]
  },
  {
   "cell_type": "markdown",
   "metadata": {},
   "source": [
    "### (3) 각 값을 indexing으로 변경하기\n",
    "\n",
    "각 열의 값들을 임베딩 행렬의 인덱스 값으로 바꾸어줍니다. "
   ]
  },
  {
   "cell_type": "code",
   "execution_count": 45,
   "metadata": {},
   "outputs": [
    {
     "data": {
      "text/html": [
       "<div>\n",
       "<style scoped>\n",
       "    .dataframe tbody tr th:only-of-type {\n",
       "        vertical-align: middle;\n",
       "    }\n",
       "\n",
       "    .dataframe tbody tr th {\n",
       "        vertical-align: top;\n",
       "    }\n",
       "\n",
       "    .dataframe thead th {\n",
       "        text-align: right;\n",
       "    }\n",
       "</style>\n",
       "<table border=\"1\" class=\"dataframe\">\n",
       "  <thead>\n",
       "    <tr style=\"text-align: right;\">\n",
       "      <th></th>\n",
       "      <th>user</th>\n",
       "      <th>item</th>\n",
       "      <th>daytime</th>\n",
       "      <th>weekday</th>\n",
       "      <th>isweekend</th>\n",
       "      <th>homework</th>\n",
       "      <th>cost</th>\n",
       "      <th>weather</th>\n",
       "      <th>country</th>\n",
       "      <th>city</th>\n",
       "      <th>cnt</th>\n",
       "    </tr>\n",
       "  </thead>\n",
       "  <tbody>\n",
       "    <tr>\n",
       "      <th>10256</th>\n",
       "      <td>33</td>\n",
       "      <td>552</td>\n",
       "      <td>night</td>\n",
       "      <td>friday</td>\n",
       "      <td>workday</td>\n",
       "      <td>unknown</td>\n",
       "      <td>free</td>\n",
       "      <td>cloudy</td>\n",
       "      <td>Ecuador</td>\n",
       "      <td>356</td>\n",
       "      <td>True</td>\n",
       "    </tr>\n",
       "    <tr>\n",
       "      <th>21278</th>\n",
       "      <td>66</td>\n",
       "      <td>911</td>\n",
       "      <td>afternoon</td>\n",
       "      <td>saturday</td>\n",
       "      <td>weekend</td>\n",
       "      <td>unknown</td>\n",
       "      <td>free</td>\n",
       "      <td>rainy</td>\n",
       "      <td>United States</td>\n",
       "      <td>1022</td>\n",
       "      <td>True</td>\n",
       "    </tr>\n",
       "    <tr>\n",
       "      <th>85778</th>\n",
       "      <td>410</td>\n",
       "      <td>232</td>\n",
       "      <td>evening</td>\n",
       "      <td>wednesday</td>\n",
       "      <td>workday</td>\n",
       "      <td>unknown</td>\n",
       "      <td>free</td>\n",
       "      <td>cloudy</td>\n",
       "      <td>Spain</td>\n",
       "      <td>369</td>\n",
       "      <td>True</td>\n",
       "    </tr>\n",
       "    <tr>\n",
       "      <th>81862</th>\n",
       "      <td>366</td>\n",
       "      <td>1630</td>\n",
       "      <td>morning</td>\n",
       "      <td>monday</td>\n",
       "      <td>workday</td>\n",
       "      <td>unknown</td>\n",
       "      <td>free</td>\n",
       "      <td>unknown</td>\n",
       "      <td>Philippines</td>\n",
       "      <td>805</td>\n",
       "      <td>True</td>\n",
       "    </tr>\n",
       "    <tr>\n",
       "      <th>82958</th>\n",
       "      <td>378</td>\n",
       "      <td>290</td>\n",
       "      <td>night</td>\n",
       "      <td>saturday</td>\n",
       "      <td>weekend</td>\n",
       "      <td>unknown</td>\n",
       "      <td>free</td>\n",
       "      <td>sunny</td>\n",
       "      <td>United States</td>\n",
       "      <td>0</td>\n",
       "      <td>True</td>\n",
       "    </tr>\n",
       "  </tbody>\n",
       "</table>\n",
       "</div>"
      ],
      "text/plain": [
       "       user  item    daytime    weekday isweekend homework  cost  weather  \\\n",
       "10256    33   552      night     friday   workday  unknown  free   cloudy   \n",
       "21278    66   911  afternoon   saturday   weekend  unknown  free    rainy   \n",
       "85778   410   232    evening  wednesday   workday  unknown  free   cloudy   \n",
       "81862   366  1630    morning     monday   workday  unknown  free  unknown   \n",
       "82958   378   290      night   saturday   weekend  unknown  free    sunny   \n",
       "\n",
       "             country  city   cnt  \n",
       "10256        Ecuador   356  True  \n",
       "21278  United States  1022  True  \n",
       "85778          Spain   369  True  \n",
       "81862    Philippines   805  True  \n",
       "82958  United States     0  True  "
      ]
     },
     "metadata": {},
     "output_type": "display_data"
    },
    {
     "name": "stderr",
     "output_type": "stream",
     "text": [
      "/Users/ksj/anaconda3/lib/python3.6/site-packages/ipykernel_launcher.py:3: SettingWithCopyWarning: \n",
      "A value is trying to be set on a copy of a slice from a DataFrame.\n",
      "Try using .loc[row_indexer,col_indexer] = value instead\n",
      "\n",
      "See the caveats in the documentation: http://pandas.pydata.org/pandas-docs/stable/user_guide/indexing.html#returning-a-view-versus-a-copy\n",
      "  This is separate from the ipykernel package so we can avoid doing imports until\n"
     ]
    },
    {
     "data": {
      "text/html": [
       "<div>\n",
       "<style scoped>\n",
       "    .dataframe tbody tr th:only-of-type {\n",
       "        vertical-align: middle;\n",
       "    }\n",
       "\n",
       "    .dataframe tbody tr th {\n",
       "        vertical-align: top;\n",
       "    }\n",
       "\n",
       "    .dataframe thead th {\n",
       "        text-align: right;\n",
       "    }\n",
       "</style>\n",
       "<table border=\"1\" class=\"dataframe\">\n",
       "  <thead>\n",
       "    <tr style=\"text-align: right;\">\n",
       "      <th></th>\n",
       "      <th>user</th>\n",
       "      <th>item</th>\n",
       "      <th>daytime</th>\n",
       "      <th>weekday</th>\n",
       "      <th>isweekend</th>\n",
       "      <th>homework</th>\n",
       "      <th>cost</th>\n",
       "      <th>weather</th>\n",
       "      <th>country</th>\n",
       "      <th>city</th>\n",
       "      <th>cnt</th>\n",
       "    </tr>\n",
       "  </thead>\n",
       "  <tbody>\n",
       "    <tr>\n",
       "      <th>10256</th>\n",
       "      <td>33</td>\n",
       "      <td>506</td>\n",
       "      <td>3</td>\n",
       "      <td>0</td>\n",
       "      <td>1</td>\n",
       "      <td>1</td>\n",
       "      <td>0</td>\n",
       "      <td>0</td>\n",
       "      <td>18</td>\n",
       "      <td>52</td>\n",
       "      <td>True</td>\n",
       "    </tr>\n",
       "    <tr>\n",
       "      <th>21278</th>\n",
       "      <td>65</td>\n",
       "      <td>801</td>\n",
       "      <td>0</td>\n",
       "      <td>2</td>\n",
       "      <td>0</td>\n",
       "      <td>1</td>\n",
       "      <td>0</td>\n",
       "      <td>3</td>\n",
       "      <td>75</td>\n",
       "      <td>196</td>\n",
       "      <td>True</td>\n",
       "    </tr>\n",
       "    <tr>\n",
       "      <th>85778</th>\n",
       "      <td>405</td>\n",
       "      <td>217</td>\n",
       "      <td>1</td>\n",
       "      <td>6</td>\n",
       "      <td>1</td>\n",
       "      <td>1</td>\n",
       "      <td>0</td>\n",
       "      <td>0</td>\n",
       "      <td>67</td>\n",
       "      <td>58</td>\n",
       "      <td>True</td>\n",
       "    </tr>\n",
       "    <tr>\n",
       "      <th>81862</th>\n",
       "      <td>362</td>\n",
       "      <td>1338</td>\n",
       "      <td>2</td>\n",
       "      <td>1</td>\n",
       "      <td>1</td>\n",
       "      <td>1</td>\n",
       "      <td>0</td>\n",
       "      <td>8</td>\n",
       "      <td>56</td>\n",
       "      <td>151</td>\n",
       "      <td>True</td>\n",
       "    </tr>\n",
       "    <tr>\n",
       "      <th>82958</th>\n",
       "      <td>373</td>\n",
       "      <td>269</td>\n",
       "      <td>3</td>\n",
       "      <td>2</td>\n",
       "      <td>0</td>\n",
       "      <td>1</td>\n",
       "      <td>0</td>\n",
       "      <td>7</td>\n",
       "      <td>75</td>\n",
       "      <td>0</td>\n",
       "      <td>True</td>\n",
       "    </tr>\n",
       "  </tbody>\n",
       "</table>\n",
       "</div>"
      ],
      "text/plain": [
       "       user  item  daytime  weekday  isweekend  homework  cost  weather  \\\n",
       "10256    33   506        3        0          1         1     0        0   \n",
       "21278    65   801        0        2          0         1     0        3   \n",
       "85778   405   217        1        6          1         1     0        0   \n",
       "81862   362  1338        2        1          1         1     0        8   \n",
       "82958   373   269        3        2          0         1     0        7   \n",
       "\n",
       "       country  city   cnt  \n",
       "10256       18    52  True  \n",
       "21278       75   196  True  \n",
       "85778       67    58  True  \n",
       "81862       56   151  True  \n",
       "82958       75     0  True  "
      ]
     },
     "metadata": {},
     "output_type": "display_data"
    }
   ],
   "source": [
    "display(train_df.head())\n",
    "for col_name, category in cate_mapper.items():\n",
    "    train_df[col_name] = train_df[col_name].map(category)\n",
    "    \n",
    "display(train_df.head())"
   ]
  },
  {
   "cell_type": "code",
   "execution_count": 46,
   "metadata": {},
   "outputs": [
    {
     "data": {
      "text/html": [
       "<div>\n",
       "<style scoped>\n",
       "    .dataframe tbody tr th:only-of-type {\n",
       "        vertical-align: middle;\n",
       "    }\n",
       "\n",
       "    .dataframe tbody tr th {\n",
       "        vertical-align: top;\n",
       "    }\n",
       "\n",
       "    .dataframe thead th {\n",
       "        text-align: right;\n",
       "    }\n",
       "</style>\n",
       "<table border=\"1\" class=\"dataframe\">\n",
       "  <thead>\n",
       "    <tr style=\"text-align: right;\">\n",
       "      <th></th>\n",
       "      <th>user</th>\n",
       "      <th>item</th>\n",
       "      <th>daytime</th>\n",
       "      <th>weekday</th>\n",
       "      <th>isweekend</th>\n",
       "      <th>homework</th>\n",
       "      <th>cost</th>\n",
       "      <th>weather</th>\n",
       "      <th>country</th>\n",
       "      <th>city</th>\n",
       "      <th>cnt</th>\n",
       "    </tr>\n",
       "  </thead>\n",
       "  <tbody>\n",
       "    <tr>\n",
       "      <th>68871</th>\n",
       "      <td>259</td>\n",
       "      <td>453</td>\n",
       "      <td>evening</td>\n",
       "      <td>monday</td>\n",
       "      <td>workday</td>\n",
       "      <td>unknown</td>\n",
       "      <td>free</td>\n",
       "      <td>sunny</td>\n",
       "      <td>Egypt</td>\n",
       "      <td>360</td>\n",
       "      <td>True</td>\n",
       "    </tr>\n",
       "    <tr>\n",
       "      <th>58111</th>\n",
       "      <td>194</td>\n",
       "      <td>17</td>\n",
       "      <td>afternoon</td>\n",
       "      <td>monday</td>\n",
       "      <td>workday</td>\n",
       "      <td>unknown</td>\n",
       "      <td>free</td>\n",
       "      <td>cloudy</td>\n",
       "      <td>New Zealand</td>\n",
       "      <td>789</td>\n",
       "      <td>True</td>\n",
       "    </tr>\n",
       "    <tr>\n",
       "      <th>42640</th>\n",
       "      <td>133</td>\n",
       "      <td>16</td>\n",
       "      <td>evening</td>\n",
       "      <td>thursday</td>\n",
       "      <td>workday</td>\n",
       "      <td>unknown</td>\n",
       "      <td>free</td>\n",
       "      <td>cloudy</td>\n",
       "      <td>United States</td>\n",
       "      <td>0</td>\n",
       "      <td>True</td>\n",
       "    </tr>\n",
       "    <tr>\n",
       "      <th>66229</th>\n",
       "      <td>245</td>\n",
       "      <td>78</td>\n",
       "      <td>afternoon</td>\n",
       "      <td>sunday</td>\n",
       "      <td>weekend</td>\n",
       "      <td>unknown</td>\n",
       "      <td>free</td>\n",
       "      <td>cloudy</td>\n",
       "      <td>United States</td>\n",
       "      <td>0</td>\n",
       "      <td>True</td>\n",
       "    </tr>\n",
       "    <tr>\n",
       "      <th>12095</th>\n",
       "      <td>39</td>\n",
       "      <td>26</td>\n",
       "      <td>afternoon</td>\n",
       "      <td>thursday</td>\n",
       "      <td>workday</td>\n",
       "      <td>unknown</td>\n",
       "      <td>free</td>\n",
       "      <td>cloudy</td>\n",
       "      <td>United States</td>\n",
       "      <td>1031</td>\n",
       "      <td>True</td>\n",
       "    </tr>\n",
       "  </tbody>\n",
       "</table>\n",
       "</div>"
      ],
      "text/plain": [
       "       user  item    daytime   weekday isweekend homework  cost weather  \\\n",
       "68871   259   453    evening    monday   workday  unknown  free   sunny   \n",
       "58111   194    17  afternoon    monday   workday  unknown  free  cloudy   \n",
       "42640   133    16    evening  thursday   workday  unknown  free  cloudy   \n",
       "66229   245    78  afternoon    sunday   weekend  unknown  free  cloudy   \n",
       "12095    39    26  afternoon  thursday   workday  unknown  free  cloudy   \n",
       "\n",
       "             country  city   cnt  \n",
       "68871          Egypt   360  True  \n",
       "58111    New Zealand   789  True  \n",
       "42640  United States     0  True  \n",
       "66229  United States     0  True  \n",
       "12095  United States  1031  True  "
      ]
     },
     "metadata": {},
     "output_type": "display_data"
    },
    {
     "name": "stderr",
     "output_type": "stream",
     "text": [
      "/Users/ksj/anaconda3/lib/python3.6/site-packages/pandas/core/indexing.py:494: SettingWithCopyWarning: \n",
      "A value is trying to be set on a copy of a slice from a DataFrame.\n",
      "Try using .loc[row_indexer,col_indexer] = value instead\n",
      "\n",
      "See the caveats in the documentation: http://pandas.pydata.org/pandas-docs/stable/user_guide/indexing.html#returning-a-view-versus-a-copy\n",
      "  self.obj[item] = s\n"
     ]
    },
    {
     "data": {
      "text/html": [
       "<div>\n",
       "<style scoped>\n",
       "    .dataframe tbody tr th:only-of-type {\n",
       "        vertical-align: middle;\n",
       "    }\n",
       "\n",
       "    .dataframe tbody tr th {\n",
       "        vertical-align: top;\n",
       "    }\n",
       "\n",
       "    .dataframe thead th {\n",
       "        text-align: right;\n",
       "    }\n",
       "</style>\n",
       "<table border=\"1\" class=\"dataframe\">\n",
       "  <thead>\n",
       "    <tr style=\"text-align: right;\">\n",
       "      <th></th>\n",
       "      <th>user</th>\n",
       "      <th>item</th>\n",
       "      <th>daytime</th>\n",
       "      <th>weekday</th>\n",
       "      <th>isweekend</th>\n",
       "      <th>homework</th>\n",
       "      <th>cost</th>\n",
       "      <th>weather</th>\n",
       "      <th>country</th>\n",
       "      <th>city</th>\n",
       "      <th>cnt</th>\n",
       "    </tr>\n",
       "  </thead>\n",
       "  <tbody>\n",
       "    <tr>\n",
       "      <th>68871</th>\n",
       "      <td>257</td>\n",
       "      <td>419</td>\n",
       "      <td>1</td>\n",
       "      <td>1</td>\n",
       "      <td>1</td>\n",
       "      <td>1</td>\n",
       "      <td>0</td>\n",
       "      <td>7</td>\n",
       "      <td>19</td>\n",
       "      <td>54</td>\n",
       "      <td>True</td>\n",
       "    </tr>\n",
       "    <tr>\n",
       "      <th>58111</th>\n",
       "      <td>193</td>\n",
       "      <td>15</td>\n",
       "      <td>0</td>\n",
       "      <td>1</td>\n",
       "      <td>1</td>\n",
       "      <td>1</td>\n",
       "      <td>0</td>\n",
       "      <td>0</td>\n",
       "      <td>51</td>\n",
       "      <td>144</td>\n",
       "      <td>True</td>\n",
       "    </tr>\n",
       "    <tr>\n",
       "      <th>42640</th>\n",
       "      <td>132</td>\n",
       "      <td>14</td>\n",
       "      <td>1</td>\n",
       "      <td>4</td>\n",
       "      <td>1</td>\n",
       "      <td>1</td>\n",
       "      <td>0</td>\n",
       "      <td>0</td>\n",
       "      <td>75</td>\n",
       "      <td>0</td>\n",
       "      <td>True</td>\n",
       "    </tr>\n",
       "    <tr>\n",
       "      <th>66229</th>\n",
       "      <td>243</td>\n",
       "      <td>76</td>\n",
       "      <td>0</td>\n",
       "      <td>3</td>\n",
       "      <td>0</td>\n",
       "      <td>1</td>\n",
       "      <td>0</td>\n",
       "      <td>0</td>\n",
       "      <td>75</td>\n",
       "      <td>0</td>\n",
       "      <td>True</td>\n",
       "    </tr>\n",
       "    <tr>\n",
       "      <th>12095</th>\n",
       "      <td>39</td>\n",
       "      <td>24</td>\n",
       "      <td>0</td>\n",
       "      <td>4</td>\n",
       "      <td>1</td>\n",
       "      <td>1</td>\n",
       "      <td>0</td>\n",
       "      <td>0</td>\n",
       "      <td>75</td>\n",
       "      <td>203</td>\n",
       "      <td>True</td>\n",
       "    </tr>\n",
       "  </tbody>\n",
       "</table>\n",
       "</div>"
      ],
      "text/plain": [
       "       user  item  daytime  weekday  isweekend  homework  cost  weather  \\\n",
       "68871   257   419        1        1          1         1     0        7   \n",
       "58111   193    15        0        1          1         1     0        0   \n",
       "42640   132    14        1        4          1         1     0        0   \n",
       "66229   243    76        0        3          0         1     0        0   \n",
       "12095    39    24        0        4          1         1     0        0   \n",
       "\n",
       "       country  city   cnt  \n",
       "68871       19    54  True  \n",
       "58111       51   144  True  \n",
       "42640       75     0  True  \n",
       "66229       75     0  True  \n",
       "12095       75   203  True  "
      ]
     },
     "metadata": {},
     "output_type": "display_data"
    }
   ],
   "source": [
    "display(test_df.head())\n",
    "for col_name, category in cate_mapper.items():\n",
    "    test_df.loc[:,col_name] = test_df[col_name].map(category)\n",
    "    \n",
    "display(test_df.head())"
   ]
  },
  {
   "cell_type": "markdown",
   "metadata": {},
   "source": [
    "### (3) 네거티브샘플링 적용하기\n",
    "\n",
    "현재 해당 데이터는 특정 컨택스트에서 고객의 앱에 대한 사용 여부로서 \"Positive\" 데이터만 존재하고 있습니다. 즉, 고객 행동의 긍정적인 행동만 기록되어있다는 것입니다. 우리는 고객이 클릭하지 않은 앱에 대한 사용 여부, 즉 Positive 데이터 한개당 Negative 데이터 3개씩을 생성하되 item 이외의 다른 feature는 고정하고 item을 무작위로 결정하는 식으로 진행해보도록 하겠습니다.<br>"
   ]
  },
  {
   "cell_type": "code",
   "execution_count": 47,
   "metadata": {},
   "outputs": [],
   "source": [
    "def do_negative_sampling(df, negative_sampling_ratio=3):\n",
    "    # 네거티브 데이터 총 개수만큼 생성\n",
    "    negative_sampled_df = pd.concat([df]*int(negative_sampling_ratio))\n",
    "    # item 식별자를 무작위로 부여\n",
    "    negative_sampled_df.item = (df\n",
    "                                .item\n",
    "                                .sample(len(df)*negative_sampling_ratio,replace=True) \n",
    "                                .values) \n",
    "    # \"네거티브 데이터\"는 카운트가 존재하지 않음    \n",
    "    negative_sampled_df.cnt = 0\n",
    "    # 포지티브 데이터와 네거티브 데이터를 합쳐줌\n",
    "    sampling_df = pd.concat([df, negative_sampled_df]) \n",
    "    # 중복 된 데이터중 네거티브의 데이터를 제거\n",
    "    sampling_df = sampling_df.drop_duplicates(sampling_df.columns.drop('cnt')) \n",
    "    sampling_df = sampling_df.sample(frac=1)\n",
    "    return sampling_df"
   ]
  },
  {
   "cell_type": "code",
   "execution_count": 48,
   "metadata": {},
   "outputs": [
    {
     "name": "stdout",
     "output_type": "stream",
     "text": [
      "샘플링하기 전 학습데이터의 수 : (83977, 11)\n",
      "샘플링된 학습데이터의 수 : (355681, 11)\n",
      "샘플링하기 전 학습데이터의 수 : (9331, 11)\n",
      "샘플링된 학습데이터의 수 : (43895, 11)\n"
     ]
    }
   ],
   "source": [
    "print(\"샘플링하기 전 학습데이터의 수 : {}\".format(train_df.shape))\n",
    "sampling_train_df = do_negative_sampling(train_df, 4)\n",
    "print(\"샘플링된 학습데이터의 수 : {}\".format(sampling_train_df.shape))\n",
    "\n",
    "print(\"샘플링하기 전 학습데이터의 수 : {}\".format(test_df.shape))\n",
    "sampling_test_df = do_negative_sampling(test_df, 4)\n",
    "print(\"샘플링된 학습데이터의 수 : {}\".format(sampling_test_df.shape))"
   ]
  },
  {
   "cell_type": "markdown",
   "metadata": {},
   "source": [
    "### (3) Input 과 Target 분리\n",
    "\n",
    "데이터 중에서 종속 변수가 되는 요소들($X$)과 독립 변수가 되는 클릭 유무을 나누도록 하겠습니다."
   ]
  },
  {
   "cell_type": "code",
   "execution_count": 49,
   "metadata": {},
   "outputs": [],
   "source": [
    "X_train = sampling_train_df.drop(\"cnt\", axis=1)\n",
    "y_train = sampling_train_df[['cnt']]\n",
    "\n",
    "X_test = sampling_test_df.drop('cnt', axis=1)\n",
    "y_test = sampling_test_df[['cnt']]"
   ]
  },
  {
   "cell_type": "markdown",
   "metadata": {},
   "source": [
    "### (4) 텐서로 바꾸어 주기"
   ]
  },
  {
   "cell_type": "code",
   "execution_count": 50,
   "metadata": {},
   "outputs": [],
   "source": [
    "# keras에서 용이하게 활용할 수 있도록 데이터를 텐서로 변경해줍니다.\n",
    "trainset = tf.data.Dataset.from_tensor_slices(\n",
    "    ({k : v.values.astype(np.int32) \n",
    "      for k, v in X_train.iteritems()}, \n",
    "     y_train.values))\n",
    "\n",
    "validset = tf.data.Dataset.from_tensor_slices(\n",
    "    ({k : v.values.astype(np.int32) \n",
    "      for k, v in X_test.iteritems()}, \n",
    "     y_test.values))"
   ]
  },
  {
   "cell_type": "markdown",
   "metadata": {},
   "source": [
    "## 4. 모델 학습하기"
   ]
  },
  {
   "cell_type": "code",
   "execution_count": 52,
   "metadata": {},
   "outputs": [
    {
     "name": "stdout",
     "output_type": "stream",
     "text": [
      "0th epoch \n",
      "Train for 571 steps, validate for 22 steps\n",
      "571/571 - 6s - loss: 0.5962 - binary_crossentropy: 0.5962 - val_loss: 0.5390 - val_binary_crossentropy: 0.5391\n",
      "1th epoch \n",
      "Train for 571 steps, validate for 22 steps\n",
      "571/571 - 4s - loss: 0.5924 - binary_crossentropy: 0.5924 - val_loss: 0.5374 - val_binary_crossentropy: 0.5374\n",
      "2th epoch \n",
      "Train for 572 steps, validate for 22 steps\n",
      "572/572 - 4s - loss: 0.5878 - binary_crossentropy: 0.5878 - val_loss: 0.5368 - val_binary_crossentropy: 0.5368\n",
      "3th epoch \n",
      "Train for 571 steps, validate for 22 steps\n",
      "571/571 - 4s - loss: 0.5800 - binary_crossentropy: 0.5799 - val_loss: 0.5306 - val_binary_crossentropy: 0.5306\n",
      "4th epoch \n",
      "Train for 571 steps, validate for 22 steps\n",
      "571/571 - 4s - loss: 0.5649 - binary_crossentropy: 0.5649 - val_loss: 0.5165 - val_binary_crossentropy: 0.5165\n",
      "5th epoch \n",
      "Train for 571 steps, validate for 22 steps\n",
      "571/571 - 4s - loss: 0.5425 - binary_crossentropy: 0.5425 - val_loss: 0.4908 - val_binary_crossentropy: 0.4906\n",
      "6th epoch \n",
      "Train for 571 steps, validate for 22 steps\n",
      "571/571 - 5s - loss: 0.5205 - binary_crossentropy: 0.5205 - val_loss: 0.4764 - val_binary_crossentropy: 0.4761\n",
      "7th epoch \n",
      "Train for 571 steps, validate for 22 steps\n",
      "571/571 - 5s - loss: 0.5006 - binary_crossentropy: 0.5006 - val_loss: 0.4706 - val_binary_crossentropy: 0.4701\n",
      "8th epoch \n",
      "Train for 571 steps, validate for 22 steps\n",
      "571/571 - 4s - loss: 0.4824 - binary_crossentropy: 0.4824 - val_loss: 0.4395 - val_binary_crossentropy: 0.4392\n",
      "9th epoch \n",
      "Train for 571 steps, validate for 22 steps\n",
      "571/571 - 4s - loss: 0.4641 - binary_crossentropy: 0.4641 - val_loss: 0.4309 - val_binary_crossentropy: 0.4305\n",
      "10th epoch \n",
      "Train for 572 steps, validate for 22 steps\n",
      "572/572 - 6s - loss: 0.4474 - binary_crossentropy: 0.4475 - val_loss: 0.4280 - val_binary_crossentropy: 0.4275\n",
      "11th epoch \n",
      "Train for 571 steps, validate for 22 steps\n",
      "571/571 - 6s - loss: 0.4324 - binary_crossentropy: 0.4323 - val_loss: 0.4050 - val_binary_crossentropy: 0.4044\n",
      "12th epoch \n",
      "Train for 571 steps, validate for 22 steps\n",
      "571/571 - 5s - loss: 0.4199 - binary_crossentropy: 0.4199 - val_loss: 0.3874 - val_binary_crossentropy: 0.3869\n",
      "13th epoch \n",
      "Train for 571 steps, validate for 22 steps\n",
      "571/571 - 5s - loss: 0.4074 - binary_crossentropy: 0.4074 - val_loss: 0.3806 - val_binary_crossentropy: 0.3801\n",
      "14th epoch \n",
      "Train for 571 steps, validate for 22 steps\n",
      "571/571 - 5s - loss: 0.3960 - binary_crossentropy: 0.3960 - val_loss: 0.3651 - val_binary_crossentropy: 0.3646\n",
      "15th epoch \n",
      "Train for 572 steps, validate for 22 steps\n",
      "572/572 - 5s - loss: 0.3846 - binary_crossentropy: 0.3846 - val_loss: 0.3736 - val_binary_crossentropy: 0.3731\n",
      "16th epoch \n",
      "Train for 571 steps, validate for 22 steps\n",
      "571/571 - 6s - loss: 0.3779 - binary_crossentropy: 0.3780 - val_loss: 0.3562 - val_binary_crossentropy: 0.3555\n",
      "17th epoch \n",
      "Train for 571 steps, validate for 22 steps\n",
      "571/571 - 5s - loss: 0.3709 - binary_crossentropy: 0.3708 - val_loss: 0.3603 - val_binary_crossentropy: 0.3597\n",
      "18th epoch \n",
      "Train for 571 steps, validate for 22 steps\n",
      "571/571 - 5s - loss: 0.3648 - binary_crossentropy: 0.3648 - val_loss: 0.3529 - val_binary_crossentropy: 0.3522\n",
      "19th epoch \n",
      "Train for 572 steps, validate for 22 steps\n",
      "572/572 - 5s - loss: 0.3597 - binary_crossentropy: 0.3596 - val_loss: 0.3520 - val_binary_crossentropy: 0.3514\n",
      "20th epoch \n",
      "Train for 571 steps, validate for 22 steps\n",
      "571/571 - 6s - loss: 0.3538 - binary_crossentropy: 0.3538 - val_loss: 0.3503 - val_binary_crossentropy: 0.3497\n",
      "21th epoch \n",
      "Train for 571 steps, validate for 22 steps\n",
      "571/571 - 5s - loss: 0.3515 - binary_crossentropy: 0.3515 - val_loss: 0.3716 - val_binary_crossentropy: 0.3708\n",
      "22th epoch \n",
      "Train for 571 steps, validate for 22 steps\n",
      "571/571 - 5s - loss: 0.3471 - binary_crossentropy: 0.3471 - val_loss: 0.3389 - val_binary_crossentropy: 0.3381\n",
      "23th epoch \n",
      "Train for 571 steps, validate for 22 steps\n",
      "571/571 - 4s - loss: 0.3450 - binary_crossentropy: 0.3450 - val_loss: 0.3432 - val_binary_crossentropy: 0.3424\n",
      "24th epoch \n",
      "Train for 571 steps, validate for 22 steps\n",
      "571/571 - 4s - loss: 0.3413 - binary_crossentropy: 0.3413 - val_loss: 0.3536 - val_binary_crossentropy: 0.3530\n",
      "25th epoch \n",
      "Train for 571 steps, validate for 22 steps\n",
      "571/571 - 4s - loss: 0.3388 - binary_crossentropy: 0.3387 - val_loss: 0.3355 - val_binary_crossentropy: 0.3347\n",
      "26th epoch \n",
      "Train for 571 steps, validate for 22 steps\n",
      "571/571 - 4s - loss: 0.3371 - binary_crossentropy: 0.3370 - val_loss: 0.3330 - val_binary_crossentropy: 0.3324\n",
      "27th epoch \n",
      "Train for 571 steps, validate for 22 steps\n",
      "571/571 - 4s - loss: 0.3347 - binary_crossentropy: 0.3347 - val_loss: 0.3331 - val_binary_crossentropy: 0.3325\n",
      "28th epoch \n",
      "Train for 571 steps, validate for 22 steps\n",
      "571/571 - 5s - loss: 0.3325 - binary_crossentropy: 0.3325 - val_loss: 0.3323 - val_binary_crossentropy: 0.3317\n",
      "29th epoch \n",
      "Train for 571 steps, validate for 22 steps\n",
      "571/571 - 5s - loss: 0.3301 - binary_crossentropy: 0.3301 - val_loss: 0.3473 - val_binary_crossentropy: 0.3468\n",
      "30th epoch \n",
      "Train for 572 steps, validate for 22 steps\n",
      "572/572 - 5s - loss: 0.3303 - binary_crossentropy: 0.3303 - val_loss: 0.3424 - val_binary_crossentropy: 0.3418\n",
      "31th epoch \n",
      "Train for 571 steps, validate for 22 steps\n",
      "571/571 - 5s - loss: 0.3271 - binary_crossentropy: 0.3272 - val_loss: 0.3364 - val_binary_crossentropy: 0.3357\n",
      "32th epoch \n",
      "Train for 571 steps, validate for 22 steps\n",
      "571/571 - 5s - loss: 0.3258 - binary_crossentropy: 0.3258 - val_loss: 0.3461 - val_binary_crossentropy: 0.3455\n",
      "33th epoch \n",
      "Train for 572 steps, validate for 22 steps\n",
      "572/572 - 4s - loss: 0.3237 - binary_crossentropy: 0.3237 - val_loss: 0.3444 - val_binary_crossentropy: 0.3439\n",
      "34th epoch \n",
      "Train for 572 steps, validate for 22 steps\n",
      "572/572 - 4s - loss: 0.3229 - binary_crossentropy: 0.3228 - val_loss: 0.3460 - val_binary_crossentropy: 0.3455\n",
      "35th epoch \n",
      "Train for 571 steps, validate for 22 steps\n",
      "571/571 - 4s - loss: 0.3236 - binary_crossentropy: 0.3236 - val_loss: 0.3229 - val_binary_crossentropy: 0.3224\n",
      "36th epoch \n",
      "Train for 572 steps, validate for 22 steps\n",
      "572/572 - 5s - loss: 0.3206 - binary_crossentropy: 0.3206 - val_loss: 0.3307 - val_binary_crossentropy: 0.3301\n",
      "37th epoch \n",
      "Train for 571 steps, validate for 22 steps\n",
      "571/571 - 5s - loss: 0.3200 - binary_crossentropy: 0.3200 - val_loss: 0.3289 - val_binary_crossentropy: 0.3283\n",
      "38th epoch \n",
      "Train for 572 steps, validate for 22 steps\n",
      "572/572 - 4s - loss: 0.3182 - binary_crossentropy: 0.3184 - val_loss: 0.3256 - val_binary_crossentropy: 0.3251\n",
      "39th epoch \n",
      "Train for 571 steps, validate for 22 steps\n",
      "571/571 - 5s - loss: 0.3184 - binary_crossentropy: 0.3184 - val_loss: 0.3334 - val_binary_crossentropy: 0.3328\n",
      "40th epoch \n",
      "Train for 571 steps, validate for 22 steps\n",
      "571/571 - 5s - loss: 0.3177 - binary_crossentropy: 0.3178 - val_loss: 0.3474 - val_binary_crossentropy: 0.3471\n",
      "41th epoch \n",
      "Train for 571 steps, validate for 22 steps\n",
      "571/571 - 4s - loss: 0.3167 - binary_crossentropy: 0.3167 - val_loss: 0.3220 - val_binary_crossentropy: 0.3217\n",
      "42th epoch \n",
      "Train for 571 steps, validate for 22 steps\n",
      "571/571 - 5s - loss: 0.3158 - binary_crossentropy: 0.3158 - val_loss: 0.3370 - val_binary_crossentropy: 0.3367\n",
      "43th epoch \n",
      "Train for 571 steps, validate for 22 steps\n",
      "571/571 - 4s - loss: 0.3155 - binary_crossentropy: 0.3155 - val_loss: 0.3189 - val_binary_crossentropy: 0.3186\n",
      "44th epoch \n",
      "Train for 571 steps, validate for 22 steps\n",
      "571/571 - 5s - loss: 0.3141 - binary_crossentropy: 0.3141 - val_loss: 0.3407 - val_binary_crossentropy: 0.3403\n",
      "45th epoch \n",
      "Train for 571 steps, validate for 22 steps\n",
      "571/571 - 4s - loss: 0.3143 - binary_crossentropy: 0.3143 - val_loss: 0.3200 - val_binary_crossentropy: 0.3196\n",
      "46th epoch \n",
      "Train for 572 steps, validate for 22 steps\n",
      "572/572 - 5s - loss: 0.3122 - binary_crossentropy: 0.3122 - val_loss: 0.3334 - val_binary_crossentropy: 0.3331\n",
      "47th epoch \n",
      "Train for 571 steps, validate for 22 steps\n",
      "571/571 - 7s - loss: 0.3140 - binary_crossentropy: 0.3140 - val_loss: 0.3281 - val_binary_crossentropy: 0.3279\n",
      "48th epoch \n",
      "Train for 571 steps, validate for 22 steps\n",
      "571/571 - 5s - loss: 0.3116 - binary_crossentropy: 0.3116 - val_loss: 0.3224 - val_binary_crossentropy: 0.3220\n",
      "49th epoch \n",
      "Train for 571 steps, validate for 22 steps\n",
      "571/571 - 5s - loss: 0.3123 - binary_crossentropy: 0.3123 - val_loss: 0.3246 - val_binary_crossentropy: 0.3243\n"
     ]
    }
   ],
   "source": [
    "num_epoch = 50\n",
    "batch_size = 512\n",
    "\n",
    "for i in range(num_epoch):\n",
    "    print(\"{}th epoch \".format(i))    \n",
    "    sampling_df = do_negative_sampling(train_df, 3)\n",
    "    X_train, y_train = sampling_df.drop(\"cnt\", axis=1), sampling_df[['cnt']]\n",
    "\n",
    "    trainset = tf.data.Dataset.from_tensor_slices(\n",
    "        ({k : v.values.astype(np.int32) \n",
    "          for k, v in X_train.iteritems()}, \n",
    "         y_train.values))\n",
    "\n",
    "    hist = model.fit((trainset.shuffle(batch_size*10).batch(batch_size)),\n",
    "                      validation_data=validset.batch(batch_size*4), verbose=2)"
   ]
  },
  {
   "cell_type": "markdown",
   "metadata": {},
   "source": [
    "## 4. DeepFM 모델 활용하기 "
   ]
  },
  {
   "cell_type": "markdown",
   "metadata": {},
   "source": [
    "### (1) 상황에 따른 아이템 추천\n",
    "\n",
    "> 특정 상황에서 특정 유저가 사용하지 않았던 어떤 어플을 추천해 줄 것인가"
   ]
  },
  {
   "cell_type": "code",
   "execution_count": null,
   "metadata": {},
   "outputs": [],
   "source": [
    "situation_sample = pd.Series({\n",
    "    \"user\" : 4,\n",
    "    \"daytime\" : \"evening\",\n",
    "    \"weekday\" : \"wednesday\",\n",
    "    \"isweekend\" : \"workday\",\n",
    "    \"homework\": \"work\",\n",
    "    \"cost\" : \"free\",\n",
    "    \"weather\" : \"sunny\",\n",
    "    \"country\" : \"Switzerland\",\n",
    "    \"city\" : 147\n",
    "})"
   ]
  },
  {
   "cell_type": "markdown",
   "metadata": {},
   "source": [
    "### 추천가능한 아이템 후보군 만들기"
   ]
  },
  {
   "cell_type": "code",
   "execution_count": null,
   "metadata": {},
   "outputs": [],
   "source": [
    "# 유저가 이미 가지고 있는 어플을 따로 빼주고자 한다.\n",
    "user_have_item = (\n",
    "    frappe_df\n",
    "    .loc[frappe_df[\"user\"] == situation_sample[\"user\"], \"item\"]\n",
    "    .unique()\n",
    ")"
   ]
  },
  {
   "cell_type": "code",
   "execution_count": null,
   "metadata": {},
   "outputs": [],
   "source": [
    "item_can = frappe_df.item.unique() # 추천 가능한 아이템의 카테고리\n",
    "item_can = np.array(list(set(item_can) - set(user_have_item)))\n",
    "sample_df = pd.DataFrame([situation_sample]*len(item_can)) # 모든 아이템에 대한 경우의 수로 데이터 프레임 만들기\n",
    "sample_df[\"item\"] = item_can # 각 행별로 아이템 적용\n",
    "\n",
    "# 열 정리\n",
    "sample_df = sample_df[frappe_df.columns[:-1]]\n",
    "\n",
    "sample_df.sample(10)"
   ]
  },
  {
   "cell_type": "markdown",
   "metadata": {},
   "source": [
    "### 학습된 모델을 통한 선호 예측"
   ]
  },
  {
   "cell_type": "code",
   "execution_count": null,
   "metadata": {},
   "outputs": [],
   "source": [
    "# 입력 가능한 데이터셋 딕셔너리 형태로 수정\n",
    "sampleset = {}\n",
    "for cate, mapper in cate_mapper.items():\n",
    "    sampleset[cate] = sample_df[cate].map(mapper).astype(np.int32)\n",
    "    \n",
    "# 모델을 통한 예측\n",
    "prediction = model.predict(sampleset)\n",
    "prediction"
   ]
  },
  {
   "cell_type": "code",
   "execution_count": null,
   "metadata": {},
   "outputs": [],
   "source": [
    "# 예측 결과를 시리즈로 변경\n",
    "prediction_series = pd.Series(data=prediction.flatten(), index=sample_df.item)\n",
    "\n",
    "# 상위 3개의 아이템만 추려봄\n",
    "recommend_items = prediction_series.sort_values(ascending=False).index[:3]"
   ]
  },
  {
   "cell_type": "code",
   "execution_count": null,
   "metadata": {},
   "outputs": [],
   "source": [
    "# 아이템 메타데이터로부터 아이템 확인\n",
    "meta_df.loc[meta_df.item.isin(recommend_items),:]"
   ]
  },
  {
   "cell_type": "markdown",
   "metadata": {},
   "source": [
    "## 2. DeepFM 모델 활용하기 - 앱 마케팅 전략 수립\n",
    "\n",
    "특정 상황에 이 아이템을 누구에게 홍보할 것인가"
   ]
  },
  {
   "cell_type": "markdown",
   "metadata": {},
   "source": [
    "### 상황 가정"
   ]
  },
  {
   "cell_type": "code",
   "execution_count": null,
   "metadata": {},
   "outputs": [],
   "source": [
    "# 현재 우리는 \"Candy Crusy Sage\" 어플의 마케터로서, 특성 상황에 대해 누구에게 홍보할 것인가 결정할 것입니다.\n",
    "display(meta_df.loc[meta_df[\"item\"] == 40, :])\n",
    "\n",
    "situation_sample = pd.Series({\n",
    "    \"item\" : 40,\n",
    "    \"daytime\" : \"noon\",\n",
    "    \"weekday\" : \"wednesday\",\n",
    "    \"isweekend\" : \"workday\",\n",
    "    \"homework\": \"home\",\n",
    "    \"cost\" : \"free\",\n",
    "    \"weather\" : \"cloudy\",\n",
    "    \"country\" : \"United States\",\n",
    "    \"city\" : 0 })"
   ]
  },
  {
   "cell_type": "markdown",
   "metadata": {},
   "source": [
    "### 가능한 유저 상황의 데이터프레임 만들기"
   ]
  },
  {
   "cell_type": "markdown",
   "metadata": {},
   "source": [
    "**해당 아이템을 다운받지 않은 유저 & 해당 국가의 유저**"
   ]
  },
  {
   "cell_type": "code",
   "execution_count": null,
   "metadata": {},
   "outputs": [],
   "source": [
    "# 어플을 이미 가지고 있는 유저는 따로 빼주고자 한다.\n",
    "item_have_user = (\n",
    "    frappe_df\n",
    "    .loc[frappe_df[\"item\"] == situation_sample[\"item\"] , \"user\"]\n",
    "    .unique()\n",
    ")\n",
    "\n",
    "user_can = ( # 추천 가능한 유저 ; 해당 국가에 있는 유저\n",
    "    frappe_df\n",
    "    .loc[frappe_df[\"country\"] == situation_sample[\"country\"], \"user\"]\n",
    "    .unique()\n",
    ")\n",
    "\n",
    "user_can = np.array(list(set(user_can) - set(item_have_user)))\n",
    "\n",
    "sample_df = pd.DataFrame([situation_sample]*len(user_can)) # 모든 가능한 유저에 대한 경우의 수로 데이터 프레임 만들기\n",
    "sample_df[\"user\"] = user_can # 각 행별로 아이템 적용\n",
    "\n",
    "# 열 정리\n",
    "sample_df = sample_df[frappe_df.columns[:-1]]\n",
    "\n",
    "sample_df.sample(5)"
   ]
  },
  {
   "cell_type": "markdown",
   "metadata": {},
   "source": [
    "### 학습된 모델을 통한 선호 예측"
   ]
  },
  {
   "cell_type": "code",
   "execution_count": null,
   "metadata": {},
   "outputs": [],
   "source": [
    "# 입력 가능한 형태로 수정\n",
    "sampleset = {}\n",
    "for cate, mapper in cate_mapper.items():\n",
    "    sampleset[cate] = sample_df[cate].map(mapper).astype(np.int32)\n",
    "\n",
    "prediction = model.predict(sampleset)\n",
    "\n",
    "# 예측 결과를 시리즈로 변경\n",
    "prediction_series = pd.Series(data=prediction.flatten(), index=sample_df.user)\n",
    "prediction_series.sort_values(ascending=False)"
   ]
  },
  {
   "cell_type": "code",
   "execution_count": null,
   "metadata": {},
   "outputs": [],
   "source": [
    "# 상위 10명\n",
    "recommend_users = prediction_series.sort_values(ascending=False).index[:10]\n",
    "recommend_users"
   ]
  },
  {
   "cell_type": "markdown",
   "metadata": {},
   "source": [
    "#  \n",
    "\n",
    "---\n",
    "\n",
    "    Copyright(c) 2020 by Public AI. All rights reserved.\n",
    "    Writen by PAI, Best10, SangJae Kang (  rocketgrowthsj@publicai.co.kr )  last updated on 2020/01/30\n",
    "\n",
    "\n",
    "---"
   ]
  }
 ],
 "metadata": {
  "kernelspec": {
   "display_name": "Python 3",
   "language": "python",
   "name": "python3"
  },
  "language_info": {
   "codemirror_mode": {
    "name": "ipython",
    "version": 3
   },
   "file_extension": ".py",
   "mimetype": "text/x-python",
   "name": "python",
   "nbconvert_exporter": "python",
   "pygments_lexer": "ipython3",
   "version": "3.6.8"
  },
  "toc": {
   "base_numbering": 1,
   "nav_menu": {},
   "number_sections": false,
   "sideBar": true,
   "skip_h1_title": false,
   "title_cell": "Table of Contents",
   "title_sidebar": "Contents",
   "toc_cell": false,
   "toc_position": {
    "height": "calc(100% - 180px)",
    "left": "10px",
    "top": "150px",
    "width": "165px"
   },
   "toc_section_display": true,
   "toc_window_display": false
  },
  "varInspector": {
   "cols": {
    "lenName": 16,
    "lenType": 16,
    "lenVar": 40
   },
   "kernels_config": {
    "python": {
     "delete_cmd_postfix": "",
     "delete_cmd_prefix": "del ",
     "library": "var_list.py",
     "varRefreshCmd": "print(var_dic_list())"
    },
    "r": {
     "delete_cmd_postfix": ") ",
     "delete_cmd_prefix": "rm(",
     "library": "var_list.r",
     "varRefreshCmd": "cat(var_dic_list()) "
    }
   },
   "types_to_exclude": [
    "module",
    "function",
    "builtin_function_or_method",
    "instance",
    "_Feature"
   ],
   "window_display": false
  }
 },
 "nbformat": 4,
 "nbformat_minor": 2
}
